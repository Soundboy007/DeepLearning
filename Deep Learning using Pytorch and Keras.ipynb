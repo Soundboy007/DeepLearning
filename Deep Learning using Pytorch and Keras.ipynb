{
 "cells": [
  {
   "cell_type": "markdown",
   "metadata": {},
   "source": [
    "# Deep Learning with PyTorch and Keras"
   ]
  },
  {
   "cell_type": "markdown",
   "metadata": {},
   "source": [
    "# PyTorch Chatbot implementation"
   ]
  },
  {
   "cell_type": "code",
   "execution_count": 92,
   "metadata": {},
   "outputs": [],
   "source": [
    "import torch\n",
    "import torch.nn as nn\n",
    "from torch import optim\n",
    "import torch.nn.functional as F\n",
    "import csv\n",
    "import random\n",
    "import re\n",
    "import os\n",
    "import unicodedata\n",
    "import codecs\n",
    "import itertools"
   ]
  },
  {
   "cell_type": "code",
   "execution_count": 93,
   "metadata": {},
   "outputs": [
    {
     "name": "stdout",
     "output_type": "stream",
     "text": [
      "cpu\n"
     ]
    }
   ],
   "source": [
    "CUDA = torch.cuda.is_available()\n",
    "device = (torch.device('cpu'))# if CUDA else 'cpu')\n",
    "print(device)"
   ]
  },
  {
   "cell_type": "markdown",
   "metadata": {},
   "source": [
    "## part 1: Data Preprocessing"
   ]
  },
  {
   "cell_type": "code",
   "execution_count": 41,
   "metadata": {},
   "outputs": [],
   "source": [
    "lines_filepath = '/home/gautam-admin/Desktop/anand nlp/cornell_movie_dialogs_corpus/cornell movie-dialogs corpus/movie_lines.txt'\n",
    "conv_filepath = '/home/gautam-admin/Desktop/anand nlp/cornell_movie_dialogs_corpus/cornell movie-dialogs corpus/movie_conversations.txt'"
   ]
  },
  {
   "cell_type": "code",
   "execution_count": 42,
   "metadata": {},
   "outputs": [
    {
     "name": "stdout",
     "output_type": "stream",
     "text": [
      "L1045 +++$+++ u0 +++$+++ m0 +++$+++ BIANCA +++$+++ They do not!\n",
      "L1044 +++$+++ u2 +++$+++ m0 +++$+++ CAMERON +++$+++ They do to!\n",
      "L985 +++$+++ u0 +++$+++ m0 +++$+++ BIANCA +++$+++ I hope so.\n",
      "L984 +++$+++ u2 +++$+++ m0 +++$+++ CAMERON +++$+++ She okay?\n",
      "L925 +++$+++ u0 +++$+++ m0 +++$+++ BIANCA +++$+++ Let's go.\n",
      "L924 +++$+++ u2 +++$+++ m0 +++$+++ CAMERON +++$+++ Wow\n",
      "L872 +++$+++ u0 +++$+++ m0 +++$+++ BIANCA +++$+++ Okay -- you're gonna need to learn how to lie.\n",
      "L871 +++$+++ u2 +++$+++ m0 +++$+++ CAMERON +++$+++ No\n",
      "\n",
      "\n",
      "u0 +++$+++ u2 +++$+++ m0 +++$+++ ['L194', 'L195', 'L196', 'L197']\n",
      "u0 +++$+++ u2 +++$+++ m0 +++$+++ ['L198', 'L199']\n",
      "u0 +++$+++ u2 +++$+++ m0 +++$+++ ['L200', 'L201', 'L202', 'L203']\n",
      "u0 +++$+++ u2 +++$+++ m0 +++$+++ ['L204', 'L205', 'L206']\n",
      "u0 +++$+++ u2 +++$+++ m0 +++$+++ ['L207', 'L208']\n",
      "u0 +++$+++ u2 +++$+++ m0 +++$+++ ['L271', 'L272', 'L273', 'L274', 'L275']\n",
      "u0 +++$+++ u2 +++$+++ m0 +++$+++ ['L276', 'L277']\n",
      "u0 +++$+++ u2 +++$+++ m0 +++$+++ ['L280', 'L281']\n"
     ]
    }
   ],
   "source": [
    "with open(lines_filepath, 'r', encoding='iso-8859-1') as file:\n",
    "    lines = file.readlines()\n",
    "for line in lines[:8]:\n",
    "#     print(line.strip())\n",
    "print('\\n')\n",
    "with open(conv_filepath, 'r', encoding='iso-8859-1') as file:\n",
    "    lines = file.readlines()\n",
    "for line in lines[:8]:\n",
    "    print(line.strip())"
   ]
  },
  {
   "cell_type": "code",
   "execution_count": 43,
   "metadata": {},
   "outputs": [],
   "source": [
    "line_fields = ['lineID', 'characterID', 'movieID', 'character', 'text']\n",
    "lines = {}\n",
    "with open(lines_filepath, 'r', encoding='iso-8859-1') as f:\n",
    "    for line in f:\n",
    "        values = line.split(' +++$+++ ')\n",
    "        # Extract fields\n",
    "        lineObj = {}\n",
    "        for i, field in enumerate(line_fields):\n",
    "            lineObj[field] = values[i]\n",
    "        lines[lineObj['lineID']] = lineObj"
   ]
  },
  {
   "cell_type": "code",
   "execution_count": 45,
   "metadata": {},
   "outputs": [],
   "source": [
    "conv_fields = ['character1ID', 'character2ID', 'movieID', 'utteranceIDs']\n",
    "conversations = []\n",
    "with open(conv_filepath, 'r', encoding='iso-8859-1') as f:\n",
    "    for line in f:\n",
    "        values = line.split(' +++$+++ ')\n",
    "        # Extract fields\n",
    "        convObj = {}\n",
    "        for i, field in enumerate(conv_fields):\n",
    "            convObj[field] = values[i]\n",
    "        lineIds = eval(convObj['utteranceIDs'])\n",
    "#         print(lineIds)\n",
    "        \n",
    "        convObj['lines'] = []\n",
    "#         print(lineIds)\n",
    "        for lineId in lineIds:\n",
    "            convObj['lines'].append(lines[lineId])\n",
    "        conversations.append(convObj)"
   ]
  },
  {
   "cell_type": "code",
   "execution_count": 46,
   "metadata": {},
   "outputs": [
    {
     "data": {
      "text/plain": [
       "{'character1ID': 'u0',\n",
       " 'character2ID': 'u2',\n",
       " 'movieID': 'm0',\n",
       " 'utteranceIDs': \"['L194', 'L195', 'L196', 'L197']\\n\",\n",
       " 'lines': [{'lineID': 'L194',\n",
       "   'characterID': 'u0',\n",
       "   'movieID': 'm0',\n",
       "   'character': 'BIANCA',\n",
       "   'text': 'Can we make this quick?  Roxanne Korrine and Andrew Barrett are having an incredibly horrendous public break- up on the quad.  Again.\\n'},\n",
       "  {'lineID': 'L195',\n",
       "   'characterID': 'u2',\n",
       "   'movieID': 'm0',\n",
       "   'character': 'CAMERON',\n",
       "   'text': \"Well, I thought we'd start with pronunciation, if that's okay with you.\\n\"},\n",
       "  {'lineID': 'L196',\n",
       "   'characterID': 'u0',\n",
       "   'movieID': 'm0',\n",
       "   'character': 'BIANCA',\n",
       "   'text': 'Not the hacking and gagging and spitting part.  Please.\\n'},\n",
       "  {'lineID': 'L197',\n",
       "   'characterID': 'u2',\n",
       "   'movieID': 'm0',\n",
       "   'character': 'CAMERON',\n",
       "   'text': \"Okay... then how 'bout we try out some French cuisine.  Saturday?  Night?\\n\"}]}"
      ]
     },
     "execution_count": 46,
     "metadata": {},
     "output_type": "execute_result"
    }
   ],
   "source": [
    "conversations[0]"
   ]
  },
  {
   "cell_type": "code",
   "execution_count": 47,
   "metadata": {
    "scrolled": false
   },
   "outputs": [
    {
     "data": {
      "text/plain": [
       "{'lineID': 'L194',\n",
       " 'characterID': 'u0',\n",
       " 'movieID': 'm0',\n",
       " 'character': 'BIANCA',\n",
       " 'text': 'Can we make this quick?  Roxanne Korrine and Andrew Barrett are having an incredibly horrendous public break- up on the quad.  Again.\\n'}"
      ]
     },
     "execution_count": 47,
     "metadata": {},
     "output_type": "execute_result"
    }
   ],
   "source": [
    "lines[\"L194\"]"
   ]
  },
  {
   "cell_type": "markdown",
   "metadata": {},
   "source": [
    "### Given a corpus of dialogs, here is the algorithm:\n",
    "#### 1. Take pairs of dialogs and store them in a list\n",
    "#### 2. Each dialog goes through couple of preprocessing:\n",
    "#####    -> Remove extra-spaces\n",
    "#####    -> Convert all charecters to lowercase\n",
    "#####    -> Remove language accents\n",
    "#####    -> Allow for english language charecters and very few expressions like [,?!]\n",
    "#####    -> Remove dialogs with more than 10 words\n",
    "#####    -> Remove dialogs that contain rare words (words that appear less than 3 times in the corpus)"
   ]
  },
  {
   "cell_type": "code",
   "execution_count": 48,
   "metadata": {},
   "outputs": [],
   "source": [
    "# Extracts pairs of sentences from conversations\n",
    "\n",
    "qa_pairs = []\n",
    "for conversation in conversations:\n",
    "    for i in range(len(conversation['lines'])-1):\n",
    "        inputLine = conversation['lines'][i]['text'].strip()\n",
    "        targetLine = conversation['lines'][i+1]['text'].strip()\n",
    "        \n",
    "        if inputLine and targetLine:\n",
    "            qa_pairs.append([inputLine, targetLine])"
   ]
  },
  {
   "cell_type": "code",
   "execution_count": 49,
   "metadata": {},
   "outputs": [
    {
     "data": {
      "text/plain": [
       "['Can we make this quick?  Roxanne Korrine and Andrew Barrett are having an incredibly horrendous public break- up on the quad.  Again.',\n",
       " \"Well, I thought we'd start with pronunciation, if that's okay with you.\"]"
      ]
     },
     "execution_count": 49,
     "metadata": {},
     "output_type": "execute_result"
    }
   ],
   "source": [
    "qa_pairs[0]"
   ]
  },
  {
   "cell_type": "code",
   "execution_count": 50,
   "metadata": {},
   "outputs": [
    {
     "name": "stdout",
     "output_type": "stream",
     "text": [
      "\n",
      "Writing newly formatted file...\n",
      "done writing to file\n",
      "\n",
      "b\"Can we make this quick?  Roxanne Korrine and Andrew Barrett are having an incredibly horrendous public break- up on the quad.  Again.\\tWell, I thought we'd start with pronunciation, if that's okay with you.\\r\\n\"\n",
      "b\"Well, I thought we'd start with pronunciation, if that's okay with you.\\tNot the hacking and gagging and spitting part.  Please.\\r\\n\"\n",
      "b\"Not the hacking and gagging and spitting part.  Please.\\tOkay... then how 'bout we try out some French cuisine.  Saturday?  Night?\\r\\n\"\n",
      "b\"You're asking me out.  That's so cute. What's your name again?\\tForget it.\\r\\n\"\n",
      "b\"No, no, it's my fault -- we didn't have a proper introduction ---\\tCameron.\\r\\n\"\n",
      "b\"Cameron.\\tThe thing is, Cameron -- I'm at the mercy of a particularly hideous breed of loser.  My sister.  I can't date until she does.\\r\\n\"\n",
      "b\"The thing is, Cameron -- I'm at the mercy of a particularly hideous breed of loser.  My sister.  I can't date until she does.\\tSeems like she could get a date easy enough...\\r\\n\"\n",
      "b'Why?\\tUnsolved mystery.  She used to be really popular when she started high school, then it was just like she got sick of it or something.\\r\\n'\n"
     ]
    }
   ],
   "source": [
    "datafile = \"/home/gautam-admin/Desktop/anand nlp/cornell_movie_dialogs_corpus/cornell movie-dialogs corpus/formatted_movie_lines.txt\"\n",
    "\n",
    "delimiter = str(codecs.decode('\\t', 'unicode_escape'))\n",
    "\n",
    "print('\\nWriting newly formatted file...')\n",
    "with open(datafile, 'w', encoding='utf-8') as outputfile:\n",
    "    writer = csv.writer(outputfile, delimiter = '\\t')\n",
    "    for pair in qa_pairs:\n",
    "        writer.writerow(pair)\n",
    "print('done writing to file\\n')\n",
    "\n",
    "\n",
    "with open(datafile, 'rb') as file:\n",
    "    lines = file.readlines()\n",
    "for line in lines[:8]:\n",
    "    print(line)"
   ]
  },
  {
   "cell_type": "markdown",
   "metadata": {},
   "source": [
    "## Processing the text"
   ]
  },
  {
   "cell_type": "code",
   "execution_count": 51,
   "metadata": {},
   "outputs": [],
   "source": [
    "# Creating a dictionary with unique words mapped to an index\n",
    "\n",
    "PAD_token = 0 # Used for padding short sentences \n",
    "SOS_token = 1 # Start-of-sentence token <START>\n",
    "EOS_token = 2 # End-of-sentence token <END>\n",
    "\n",
    "class Vocabulary:\n",
    "    def __init__(self, name):\n",
    "        self.name = name\n",
    "        self.word2count = {} # counting instances of the word\n",
    "        self.word2index = {} # Mapping a word to an index\n",
    "        self.index2word = {PAD_token: 'PAD', SOS_token: 'SOS', EOS_token: 'EOS'}\n",
    "        self.num_words = 3 # Count SOS, EOS, PAD\n",
    "        \n",
    "    def addSentence(self, sentence):\n",
    "        for word in sentence.split(' '):\n",
    "            self.addWord(word)\n",
    "            \n",
    "    def addWord(self, word):\n",
    "        if word not in self.word2index:\n",
    "            self.word2index[word] = self.num_words\n",
    "            self.word2count[word] = 1\n",
    "            self.index2word[self.num_words] = word\n",
    "            self.num_words += 1\n",
    "        else:\n",
    "            self.word2count[word] += 1\n",
    "    \n",
    "    # Removes words that are rare and creates a new dictionary with common words mapped with indices\n",
    "    def trim(self, min_count):\n",
    "        keep_words = []\n",
    "        for k, v in self.word2count.items():\n",
    "            if v>= min_count:\n",
    "                keep_words.append(k)\n",
    "                \n",
    "        print(f'fraction of keep_words wrt total words = {len(keep_words) / len(self.word2index)}')\n",
    "        \n",
    "        self.word2index = {}\n",
    "        self.word2count = {}\n",
    "        self.index2word = {PAD_token: 'PAD', SOS_token: 'SOS', EOS_token: 'EOS'}\n",
    "        self.num_words = 3 # Count default tokens\n",
    "        \n",
    "        for word in keep_words:\n",
    "            self.addWord(word)"
   ]
  },
  {
   "cell_type": "code",
   "execution_count": 52,
   "metadata": {},
   "outputs": [],
   "source": [
    "# Turn a unicode string to plain ASCII\n",
    "def unicodeToAscii(s):\n",
    "    return ''.join(c for c in unicodedata.normalize('NFD', s) if unicodedata.category(c) != 'Mn')"
   ]
  },
  {
   "cell_type": "code",
   "execution_count": 53,
   "metadata": {},
   "outputs": [
    {
     "data": {
      "text/plain": [
       "'Une journee a Paris'"
      ]
     },
     "execution_count": 53,
     "metadata": {},
     "output_type": "execute_result"
    }
   ],
   "source": [
    "unicodeToAscii('Une journée à Paris')"
   ]
  },
  {
   "cell_type": "code",
   "execution_count": 54,
   "metadata": {},
   "outputs": [],
   "source": [
    "# Lowercase, trim white spaces, lines... etc, and remove non-letter characters \\\n",
    "\n",
    "def normalizeString(s):\n",
    "    s = unicodeToAscii(s.lower().strip())\n",
    "    # Replace any .!? by a whitespace + the charecter --> '!'. \\1 means the first bracketed group --> [,!?]. r is to\n",
    "    # not consider \\1 as a character (r to escape a backslash). + means one or more\n",
    "    s = re.sub(r\"([!?])\", r' \\1', s)\n",
    "    # Remove any character that is not a sequence of lower or upper case Letters. + means one or more\n",
    "    s = re.sub(r\"[^a-zA-Z!?]+\", r\" \", s)\n",
    "    # Remove a sequence of whitespace characters\n",
    "    s = re.sub(r\"\\s+\", r\" \", s).strip()\n",
    "    return s   "
   ]
  },
  {
   "cell_type": "code",
   "execution_count": 55,
   "metadata": {},
   "outputs": [
    {
     "data": {
      "text/plain": [
       "'aa aas ! s dd ?'"
      ]
     },
     "execution_count": 55,
     "metadata": {},
     "output_type": "execute_result"
    }
   ],
   "source": [
    "normalizeString('aa13aas!\"s     dd?')"
   ]
  },
  {
   "cell_type": "code",
   "execution_count": 56,
   "metadata": {},
   "outputs": [
    {
     "name": "stdout",
     "output_type": "stream",
     "text": [
      "reading and processing file .... please wait\n",
      "Done reading!\n"
     ]
    }
   ],
   "source": [
    "datafile = \"/home/gautam-admin/Desktop/anand nlp/cornell_movie_dialogs_corpus/cornell movie-dialogs corpus/formatted_movie_lines.txt\"\n",
    "print('reading and processing file .... please wait')\n",
    "\n",
    "lines = open(datafile, encoding='utf-8').read().strip().split('\\n')\n",
    "# Split every line into pairs and normalize\n",
    "pairs = [[normalizeString(s) for s in pair.split('\\t')] for pair in lines]\n",
    "print('Done reading!')"
   ]
  },
  {
   "cell_type": "code",
   "execution_count": 58,
   "metadata": {},
   "outputs": [],
   "source": [
    "voc = Vocabulary(\"cornell movie-dialogs corpus\")"
   ]
  },
  {
   "cell_type": "code",
   "execution_count": 59,
   "metadata": {},
   "outputs": [],
   "source": [
    "# Returns True if both sentences in a pair 'p' are under the MAX_LENGTH threshold\n",
    "MAX_LENGTH = 10\n",
    "def filterPair(p):\n",
    "    return len(p[0].split()) < MAX_LENGTH and len(p[1].split()) < MAX_LENGTH\n",
    "\n",
    "def filterPairs(pairs):\n",
    "    return [pair for pair in pairs if filterPair(pair)]"
   ]
  },
  {
   "cell_type": "code",
   "execution_count": 60,
   "metadata": {},
   "outputs": [
    {
     "name": "stdout",
     "output_type": "stream",
     "text": [
      "Before filtering, there are 221282 pairs/conversations\n",
      "After filtering, there are 79004 pairs/conversations\n"
     ]
    }
   ],
   "source": [
    "print(f'Before filtering, there are {len(pairs)} pairs/conversations')\n",
    "pairs = filterPairs(pairs)\n",
    "print(f'After filtering, there are {len(pairs)} pairs/conversations')"
   ]
  },
  {
   "cell_type": "code",
   "execution_count": 62,
   "metadata": {},
   "outputs": [
    {
     "name": "stdout",
     "output_type": "stream",
     "text": [
      "counted words:  20484\n",
      "['gosh if only we could find kat a boyfriend', 'let me see what i can do']\n",
      "['c esc ma tete this is my head', 'right see ? you re ready for the quiz']\n",
      "['that s because it s such a nice one', 'forget french']\n",
      "['there', 'where ?']\n",
      "['you have my word as a gentleman', 'you re sweet']\n",
      "['hi', 'looks like things worked out tonight huh ?']\n",
      "['you know chastity ?', 'i believe we share an art instructor']\n",
      "['have fun tonight ?', 'tons']\n",
      "['well no', 'then that s all you had to say']\n",
      "['then that s all you had to say', 'but']\n"
     ]
    }
   ],
   "source": [
    "# Loop through each pair of and add the question and reply sentence to the vocabulary\n",
    "for pair in pairs:  \n",
    "    voc.addSentence(pair[0])\n",
    "    voc.addSentence(pair[1])\n",
    "print('counted words: ', voc.num_words)\n",
    "for pair in pairs[:10]:\n",
    "    print(pair)"
   ]
  },
  {
   "cell_type": "code",
   "execution_count": 63,
   "metadata": {},
   "outputs": [
    {
     "name": "stdout",
     "output_type": "stream",
     "text": [
      "fraction of keep_words wrt total words = 0.4592549191933988\n",
      "Trimmed from 79004 pairs to 66777, 0.845235684269151 of total\n"
     ]
    }
   ],
   "source": [
    "MIN_COUNT = 3 # Minimum word frequency count threshold for trimming\n",
    "\n",
    "def trimRareWords(voc, pairs, MIN_COUNT):\n",
    "    # Trim words used under the MIN_COUNT from the voc\n",
    "    voc.trim(MIN_COUNT)\n",
    "    # Filter out pairs with trimmed words\n",
    "    keep_pairs = []\n",
    "    for pair in pairs:\n",
    "        input_sentence = pair[0]\n",
    "        output_sentence = pair[1]\n",
    "        keep_input = True\n",
    "        keep_output = True\n",
    "        # Check input sentence\n",
    "        for word in input_sentence.split(' '):\n",
    "            if word not in voc.word2index:\n",
    "                keep_input = False\n",
    "#                 print(word)\n",
    "                break\n",
    "        # Check output sentence\n",
    "        for word in output_sentence.split(' '):\n",
    "            if word not in voc.word2index:\n",
    "                keep_output = False\n",
    "                break\n",
    "        \n",
    "        # Only keep pairs that do not contain trimmed word(s) in their inut or output sentence\n",
    "        if keep_input and keep_output:\n",
    "            keep_pairs.append(pair)\n",
    "            \n",
    "    print(f'Trimmed from {len(pairs)} pairs to {len(keep_pairs)}, {len(keep_pairs)/len(pairs)} of total')\n",
    "    return keep_pairs\n",
    "\n",
    "# Trim voc and pairs\n",
    "pairs = trimRareWords(voc, pairs, MIN_COUNT)"
   ]
  },
  {
   "cell_type": "code",
   "execution_count": 65,
   "metadata": {},
   "outputs": [],
   "source": [
    "# given a corpus of dialogs, here is the algorithm:\n",
    "# 1. take pairs of dialogs and store them in a list\n",
    "# 2. each dialog goes through couple of preprocessing:\n",
    "#    a. Remove extra-spaces\n",
    "#    b. Convert all charecters to lowercase\n",
    "#    c. Remove language accents\n",
    "#    d. Allow for english language charecters and very few expressions like [,?!]\n",
    "#    e. Remove dialogs with more than 10 words\n",
    "#    f. Remove dialogs that contain rare words (words that appear less than 3 times in the corpus)"
   ]
  },
  {
   "cell_type": "code",
   "execution_count": 67,
   "metadata": {},
   "outputs": [],
   "source": [
    "def indexesFromSentence(voc, sentence):\n",
    "    return [voc.word2index[word] for word in sentence.split(' ')] + [EOS_token]"
   ]
  },
  {
   "cell_type": "code",
   "execution_count": 68,
   "metadata": {},
   "outputs": [
    {
     "name": "stdout",
     "output_type": "stream",
     "text": [
      "that s because it s such a nice one\n",
      "[32, 33, 34, 35, 33, 36, 10, 37, 38, 2]\n"
     ]
    }
   ],
   "source": [
    "print(pairs[1][0])\n",
    "print(indexesFromSentence(voc, pairs[1][0]))"
   ]
  },
  {
   "cell_type": "code",
   "execution_count": 69,
   "metadata": {},
   "outputs": [
    {
     "name": "stdout",
     "output_type": "stream",
     "text": [
      "['gosh if only we could find kat a boyfriend', 'that s because it s such a nice one', 'there', 'you have my word as a gentleman', 'hi', 'have fun tonight ?', 'well no', 'then that s all you had to say', 'but', 'do you listen to this crap ?']\n",
      "10\n"
     ]
    },
    {
     "data": {
      "text/plain": [
       "[[3, 4, 5, 6, 7, 8, 9, 10, 11, 2],\n",
       " [32, 33, 34, 35, 33, 36, 10, 37, 38, 2],\n",
       " [41, 2],\n",
       " [27, 43, 23, 44, 45, 10, 46, 2],\n",
       " [48, 2],\n",
       " [43, 61, 54, 26, 2],\n",
       " [63, 64, 2],\n",
       " [65, 32, 33, 66, 27, 67, 68, 69, 2],\n",
       " [70, 2],\n",
       " [18, 27, 74, 68, 21, 75, 26, 2]]"
      ]
     },
     "execution_count": 69,
     "metadata": {},
     "output_type": "execute_result"
    }
   ],
   "source": [
    "# Define some samples for testing\n",
    "inp = []\n",
    "out = []\n",
    "for pair in pairs[:10]:\n",
    "    inp.append(pair[0]) # all first dialogs in corpus\n",
    "    out.append(pair[1]) # all second dialogs in corpus\n",
    "print(inp)\n",
    "print(len(inp))\n",
    "indexes = [indexesFromSentence(voc, sentence) for sentence in inp]\n",
    "indexes"
   ]
  },
  {
   "cell_type": "code",
   "execution_count": 70,
   "metadata": {},
   "outputs": [],
   "source": [
    "def zeroPadding(l, fillvalue=0):\n",
    "    return list(itertools.zip_longest(*l, fillvalue=fillvalue))"
   ]
  },
  {
   "cell_type": "code",
   "execution_count": 71,
   "metadata": {
    "scrolled": true
   },
   "outputs": [
    {
     "data": {
      "text/plain": [
       "[(3, 32, 41, 27, 48, 43, 63, 65, 70, 18),\n",
       " (4, 33, 2, 43, 2, 61, 64, 32, 2, 27),\n",
       " (5, 34, 0, 23, 0, 54, 2, 33, 0, 74),\n",
       " (6, 35, 0, 44, 0, 26, 0, 66, 0, 68),\n",
       " (7, 33, 0, 45, 0, 2, 0, 27, 0, 21),\n",
       " (8, 36, 0, 10, 0, 0, 0, 67, 0, 75),\n",
       " (9, 10, 0, 46, 0, 0, 0, 68, 0, 26),\n",
       " (10, 37, 0, 2, 0, 0, 0, 69, 0, 2),\n",
       " (11, 38, 0, 0, 0, 0, 0, 2, 0, 0),\n",
       " (2, 2, 0, 0, 0, 0, 0, 0, 0, 0)]"
      ]
     },
     "execution_count": 71,
     "metadata": {},
     "output_type": "execute_result"
    }
   ],
   "source": [
    "list(itertools.zip_longest(*indexes, fillvalue=0))"
   ]
  },
  {
   "cell_type": "code",
   "execution_count": 72,
   "metadata": {},
   "outputs": [
    {
     "name": "stdout",
     "output_type": "stream",
     "text": [
      "10\n"
     ]
    },
    {
     "data": {
      "text/plain": [
       "[(3, 32, 41, 27, 48, 43, 63, 65, 70, 18),\n",
       " (4, 33, 2, 43, 2, 61, 64, 32, 2, 27),\n",
       " (5, 34, 0, 23, 0, 54, 2, 33, 0, 74),\n",
       " (6, 35, 0, 44, 0, 26, 0, 66, 0, 68),\n",
       " (7, 33, 0, 45, 0, 2, 0, 27, 0, 21),\n",
       " (8, 36, 0, 10, 0, 0, 0, 67, 0, 75),\n",
       " (9, 10, 0, 46, 0, 0, 0, 68, 0, 26),\n",
       " (10, 37, 0, 2, 0, 0, 0, 69, 0, 2),\n",
       " (11, 38, 0, 0, 0, 0, 0, 2, 0, 0),\n",
       " (2, 2, 0, 0, 0, 0, 0, 0, 0, 0)]"
      ]
     },
     "execution_count": 72,
     "metadata": {},
     "output_type": "execute_result"
    }
   ],
   "source": [
    "test_result = zeroPadding(indexes)\n",
    "print(len(test_result))\n",
    "test_result"
   ]
  },
  {
   "cell_type": "code",
   "execution_count": 73,
   "metadata": {},
   "outputs": [],
   "source": [
    "# Returns a matrix that will substitute a non-zero element with 1\n",
    "def binaryMatrix(l, value=0):\n",
    "        m = []\n",
    "        for i, seq in enumerate(l):\n",
    "#             print(i, seq)\n",
    "            m.append([])\n",
    "            for token in seq:\n",
    "                if token == PAD_token: # PAD_token=0\n",
    "#                     print(PAD_token)\n",
    "                    m[i].append(0)\n",
    "                else:\n",
    "                    m[i].append(1)\n",
    "        return m"
   ]
  },
  {
   "cell_type": "code",
   "execution_count": 74,
   "metadata": {},
   "outputs": [
    {
     "data": {
      "text/plain": [
       "[[1, 1, 1, 1, 1, 1, 1, 1, 1, 1],\n",
       " [1, 1, 1, 1, 1, 1, 1, 1, 1, 1],\n",
       " [1, 1, 0, 1, 0, 1, 1, 1, 0, 1],\n",
       " [1, 1, 0, 1, 0, 1, 0, 1, 0, 1],\n",
       " [1, 1, 0, 1, 0, 1, 0, 1, 0, 1],\n",
       " [1, 1, 0, 1, 0, 0, 0, 1, 0, 1],\n",
       " [1, 1, 0, 1, 0, 0, 0, 1, 0, 1],\n",
       " [1, 1, 0, 1, 0, 0, 0, 1, 0, 1],\n",
       " [1, 1, 0, 0, 0, 0, 0, 1, 0, 0],\n",
       " [1, 1, 0, 0, 0, 0, 0, 0, 0, 0]]"
      ]
     },
     "execution_count": 74,
     "metadata": {},
     "output_type": "execute_result"
    }
   ],
   "source": [
    "binary_result = binaryMatrix(test_result)\n",
    "binary_result"
   ]
  },
  {
   "cell_type": "code",
   "execution_count": 75,
   "metadata": {},
   "outputs": [],
   "source": [
    "#Returns padded input sequence tensor and as well as a tensor of lenghts for each of the sequences in the batch\n",
    "def inputVar(l, voc):\n",
    "    indexes_batch = [indexesFromSentence(voc, sentence) for sentence in l]\n",
    "#     print('\\n inputVar indexes_batch: ', indexes_batch)\n",
    "    padList = zeroPadding(indexes_batch)\n",
    "#     print('\\n zero padding of inputVar indexes_batch: ')\n",
    "#     print(padList)\n",
    "    padVar = torch.LongTensor(padList)\n",
    "    lengths = torch.tensor([len(indexes) for indexes in indexes_batch])\n",
    "#     print('\\n The lengths of indexes_batch: ', lengths)\n",
    "    return padVar, lengths"
   ]
  },
  {
   "cell_type": "code",
   "execution_count": 76,
   "metadata": {},
   "outputs": [],
   "source": [
    "# Returns padded target sequence tensor, padding mask, and max target length\n",
    "def outputVar(l, voc):\n",
    "    indexes_batch = [indexesFromSentence(voc, sentence) for sentence in l]\n",
    "#     print('\\n outputVar indexes_batch: ', indexes_batch)\n",
    "    padList = zeroPadding(indexes_batch)\n",
    "#     print('\\n zero padding of outputVar indexes_batch: ')\n",
    "#     print(padList)\n",
    "    padVar = torch.LongTensor(padList)\n",
    "    mask = binaryMatrix(padList)\n",
    "#     print('\\n outputVar binaryMatrix mask of zeropadded padList: ')\n",
    "#     print(mask)\n",
    "    mask = torch.ByteTensor(mask)\n",
    "    max_target_len = max([len(indexes) for indexes in indexes_batch])\n",
    "#     print('\\n The max_target_len of indexes_batch of OutputVar: ', max_target_len)\n",
    "    return padVar, mask, max_target_len"
   ]
  },
  {
   "cell_type": "code",
   "execution_count": 77,
   "metadata": {},
   "outputs": [],
   "source": [
    "#Returns all items for a given batch of pairs\n",
    "def batch2TrainData(voc, pair_batch):\n",
    "    #sort the questions in descending length\n",
    "#     print('\\npair_batch input for batch2TrainData: ')\n",
    "#     print(pair_batch)\n",
    "#     print('\\npair batch in batch2TrainData before sorting: ')\n",
    "#     print([[len(x[0].split(\" \")),len(x[1].split(\" \"))] for x in pair_batch])\n",
    "    pair_batch.sort(key=lambda x: len(x[0].split(\" \")), reverse=True)\n",
    "#     print('\\npair batch  in batch2TrainData after sorting: ')\n",
    "#     print([[len(x[0].split(\" \")),len(x[1].split(\" \"))] for x in pair_batch])\n",
    "    input_batch, output_batch = [], []\n",
    "    for pair in pair_batch:\n",
    "        input_batch.append(pair[0])\n",
    "        output_batch.append(pair[1])\n",
    "#     print('\\n Sending input_batch into inputVar')\n",
    "    inp, lengths = inputVar(input_batch, voc)\n",
    "    #assert len(inp) == lengths[0]\n",
    "#     print('\\n Sending output_batch into outputVar')\n",
    "    output, mask, max_target_len = outputVar(output_batch, voc)\n",
    "    return inp, lengths, output, mask, max_target_len"
   ]
  },
  {
   "cell_type": "code",
   "execution_count": 78,
   "metadata": {},
   "outputs": [
    {
     "name": "stdout",
     "output_type": "stream",
     "text": [
      "\n",
      "###################################################\n",
      "input variable: \n",
      "tensor([[3112,  103,   10,   70, 1442],\n",
      "        [  68,  319, 1372,   31,  425],\n",
      "        [  31,   27,   16, 6232,    2],\n",
      "        [1580,   32,   50,   26,    0],\n",
      "        [  80,   26,   32,    2,    0],\n",
      "        [ 295,    2,    2,    0,    0],\n",
      "        [  88,    0,    0,    0,    0],\n",
      "        [ 100,    0,    0,    0,    0],\n",
      "        [ 113,    0,    0,    0,    0],\n",
      "        [   2,    0,    0,    0,    0]])\n",
      "\n",
      "lengths:  tensor([10,  6,  6,  5,  3])\n",
      "\n",
      "target variable: \n",
      "tensor([[5208,  312,   21,   16,  271],\n",
      "        [   2,  117,   22, 1439, 1065],\n",
      "        [   0,   35,   35,   35,    7],\n",
      "        [   0,  362,   16,   68,  728],\n",
      "        [   0,   26,  143, 3023,   13],\n",
      "        [   0,    2,    2,  198,   32],\n",
      "        [   0,    0,    0,    2,  656],\n",
      "        [   0,    0,    0,    0,    2]])\n",
      "\n",
      "mask: \n",
      "tensor([[1, 1, 1, 1, 1],\n",
      "        [1, 1, 1, 1, 1],\n",
      "        [0, 1, 1, 1, 1],\n",
      "        [0, 1, 1, 1, 1],\n",
      "        [0, 1, 1, 1, 1],\n",
      "        [0, 1, 1, 1, 1],\n",
      "        [0, 0, 0, 1, 1],\n",
      "        [0, 0, 0, 0, 1]], dtype=torch.uint8)\n",
      "\n",
      "max target length:  8\n"
     ]
    }
   ],
   "source": [
    "# example for validation\n",
    "small_batch_size = 5\n",
    "batches = batch2TrainData(voc, [random.choice(pairs) for _ in range(small_batch_size)])\n",
    "input_variable, lengths, target_variable, mask, max_target_len = batches\n",
    "print('\\n###################################################')\n",
    "print('input variable: ')\n",
    "print(input_variable)\n",
    "print('\\nlengths: ', lengths)\n",
    "print('\\ntarget variable: ')\n",
    "input(target_variable)\n",
    "print('\\nmask: ')\n",
    "print(mask)\n",
    "print('\\nmax target length: ', max_target_len)"
   ]
  },
  {
   "cell_type": "code",
   "execution_count": null,
   "metadata": {},
   "outputs": [],
   "source": []
  },
  {
   "cell_type": "markdown",
   "metadata": {},
   "source": [
    "## Building the model"
   ]
  },
  {
   "cell_type": "code",
   "execution_count": 79,
   "metadata": {},
   "outputs": [],
   "source": [
    "class EncoderRNN(nn.Module):\n",
    "    def __init__(self, hidden_size, embedding, n_layers=1, dropout=0):\n",
    "        super(EncoderRNN, self).__init__()\n",
    "        self.n_layers = n_layers\n",
    "        self.hidden_size = hidden_size\n",
    "        self.embedding = embedding\n",
    "        # Initialize GRU; the input_size and hidden_size params are both set to 'hidden_size'\n",
    "        # because our input   size is a word embedding with number of features == hidden_size\n",
    "        self.gru = nn.GRU(hidden_size, hidden_size, n_layers, dropout=(0 if n_layers==1 else dropout), bidirectional=True)\n",
    "        \n",
    "    def forward(self, input_seq, input_lengths, hidden=None):\n",
    "        # input_seq: batch of input sentences; shape=(max_length, batch_size)\n",
    "        # input_lengths: list of sentence lengths corresponding to each sentence in the batch\n",
    "        # hidden state, of shape: (n_layers x num_directions, batch_size, hidden_size)\n",
    "        # convert word indexes to embeddings\n",
    "        embedded = self.embedding(input_seq)\n",
    "        # pack padded batch of sequences for RNN module\n",
    "        packed = torch.nn.utils.rnn.pack_padded_sequence(embedded, input_lengths)\n",
    "        # Forward pass through GRU\n",
    "        outputs, hidden = self.gru(packed, hidden)\n",
    "        # Unpack padding\n",
    "        outputs, _ = torch.nn.utils.rnn.pad_packed_sequence(outputs)\n",
    "        # Sum bidirectional GRU outputs\n",
    "        outputs = outputs[:, :, :self.hidden_size] + outputs[:, :, self.hidden_size:]\n",
    "        # Return outpt and final hidden state\n",
    "        return outputs, hidden\n",
    "        # outputs: the output features h_t from the last layer of the GRU, for each timestep (suum of bidirectinal outputs)\n",
    "        # outputs shape = (max_length, batch_size, hidden_size)\n",
    "        # hidden: hidden state for the last timestep, of shae=(n_layers x num_directions, batch_size, hidden_size)"
   ]
  },
  {
   "cell_type": "code",
   "execution_count": 80,
   "metadata": {},
   "outputs": [],
   "source": [
    "# Luong attention layer\n",
    "class Attn(torch.nn.Module):\n",
    "    def __init__(self, method, hidden_size):\n",
    "        super(Attn, self).__init__()\n",
    "        self.method = method\n",
    "        self.hidden_size = hidden_size\n",
    "        \n",
    "    def dot_score(self, hidden, encoder_output):\n",
    "        # Element-wise multiply the current target decoder state4 with the encoder output and sum them\n",
    "        return torch.sum(hidden * encoder_output, dim=2)\n",
    "    \n",
    "    def forward(self, hidden, encoder_outputs):\n",
    "        #hidden of shape: (1, batch_size, hidden_size)\n",
    "        # encoder_outputs of shape: (max_length, batch_size, hidden_size)\n",
    "        \n",
    "        #calculate the attention weights (energies)\n",
    "        attn_energies = self.dot_score(hidden, encoder_outputs) #(max_length, batch_size)\n",
    "        #Transpose max_length and batch_size dimensions\n",
    "        attn_energies = attn_energies.t()\n",
    "        #Return the softmax normalized probability scores (with added dimension)\n",
    "        return F.softmax(attn_energies, dim=1).unsqueeze(1)  #(batch_size, 1, max_length)"
   ]
  },
  {
   "cell_type": "code",
   "execution_count": 81,
   "metadata": {},
   "outputs": [],
   "source": [
    "class LuongAttnDecoderRNN(nn.Module):\n",
    "    def __init__(self, attn_model, embedding, hidden_size, output_size, n_layers=1, dropout=0.1):\n",
    "        super(LuongAttnDecoderRNN, self).__init__()\n",
    "        self.attn_model = attn_model\n",
    "        self.hidden_size = hidden_size\n",
    "        self.output_size = output_size\n",
    "        self.n_layers = n_layers\n",
    "        self.dropout = dropout\n",
    "        \n",
    "        #Define layers\n",
    "        self.embedding = embedding\n",
    "        self.embedding_dropout = nn.Dropout(dropout)\n",
    "        self.gru = nn.GRU (hidden_size, hidden_size, n_layers, dropout=(0 if n_layers == 1 else dropout))\n",
    "        self.concat = nn.Linear(hidden_size*2, hidden_size)\n",
    "        self.out = nn.Linear(hidden_size, output_size)\n",
    "        \n",
    "        self.attn = Attn(attn_model, hidden_size)\n",
    "    \n",
    "    def forward(self, input_step, last_hidden, encoder_outputs):\n",
    "        #input_step: one time step (one word) of input sequence batch; shape=(1, batch_size)\n",
    "        #last_hidden: final hidden state of encoder  GRU ; shape=(n_layers x num_directions, batch_size, hidden_size)\n",
    "        #encoder_outputs: encoder model's output; shape=(max_length, batch_size, hidden_size)\n",
    "        #Note: we run this one step (batch of words) at a time\n",
    "        \n",
    "        #get embedding of current input word\n",
    "        embedded = self.embedding(input_step)\n",
    "        embedded = self.embedding_dropout(embedded)\n",
    "        #forward through unidirectional GRU \n",
    "        rnn_output, hidden = self.gru(embedded, last_hidden)\n",
    "        # calculate attention weights from the current GRU output\n",
    "        attn_weights = self.attn(rnn_output, encoder_outputs)\n",
    "        #Multiply attention weights to encoder outputs to get new \"weighted sum\" context vector\n",
    "        #(batch_size, 1, max_length) bmm with (batch_size, max_length, hidden) = (batch_size, 1, hidden)\n",
    "        context = attn_weights.bmm(encoder_outputs.transpose(0,1))\n",
    "        # Concatenate weighted context vector and GRU output\n",
    "        rnn_output = rnn_output.squeeze(0)\n",
    "        context = context.squeeze(1)\n",
    "        concat_input = torch.cat((rnn_output, context), 1)\n",
    "        concat_output = torch.tanh(self.concat(concat_input))\n",
    "        # predict next word using Luong eq. 6\n",
    "        output = self.out(concat_output)\n",
    "        output = F.softmax(output, dim=1)\n",
    "        # Return output and final hidden state\n",
    "        return output, hidden\n",
    "        #output: softmax normalized tensor giving probabilities of each word being the correct next word in the decoded sequence\n",
    "        #shape = (batch_size, voc.num_words)\n",
    "        #hidden: final hidden state of GRU; shape=(n_layers x num_directions, batch_size, hidden_size)"
   ]
  },
  {
   "cell_type": "markdown",
   "metadata": {},
   "source": [
    "## Loss calculation"
   ]
  },
  {
   "cell_type": "code",
   "execution_count": 82,
   "metadata": {},
   "outputs": [],
   "source": [
    "def maskNLLLoss(decoder_out, target, mask):\n",
    "    nTotal = mask.sum() # How many elements should we consider\n",
    "    target = target.view(-1, 1)\n",
    "    # decoder_out shape: (batch_size, vocab_size), target_size = (batch_size, 1)\n",
    "    gathered_tensor = torch.gather(decoder_out, 1, target)\n",
    "    # calculate the negative log likelihood loss (NLL Loss)\n",
    "    crossEntropy = -torch.log(gathered_tensor)\n",
    "    # select the non-zero elements\n",
    "    loss = crossEntropy.masked_select(mask)\n",
    "    # calculate the mean of the loss\n",
    "    loss = loss.mean()\n",
    "    loss = loss.to(device)\n",
    "    return loss, nTotal.item()"
   ]
  },
  {
   "cell_type": "code",
   "execution_count": 83,
   "metadata": {},
   "outputs": [
    {
     "name": "stdout",
     "output_type": "stream",
     "text": [
      "input_variable shape:  torch.Size([9, 5])\n",
      "lengths shape:  torch.Size([5])\n",
      "target_variable shape:  torch.Size([10, 5])\n",
      "mask shape:  torch.Size([10, 5])\n",
      "max_target_len:  10\n",
      "encoder outputs shape:  torch.Size([9, 5, 500])\n",
      "last encoder hidden shape:  torch.Size([4, 5, 500])\n",
      "initial decoder input shape:  torch.Size([1, 5])\n",
      "tensor([[1, 1, 1, 1, 1]])\n",
      "initial decoder hidden state shape:  torch.Size([2, 5, 500])\n",
      "\n",
      "\n",
      "-----------------------------------------\n",
      "now let's look what's happening in every timestep of the GRU!\n",
      "------------------------------------------\n",
      "\n",
      "\n",
      "decoder output shape:  torch.Size([5, 9409])\n",
      "decoder hidden shape:  torch.Size([2, 5, 500])\n",
      "the target variable at the current timestamp before reshaping:  tensor([ 16, 211,  15,  32,  85])\n",
      "the target variable at the current timestep shape before reshaping:  torch.Size([5])\n",
      "the decoder input shape(reshape the target variable):  torch.Size([1, 5])\n",
      "the mask at the current timestep:  tensor([1, 1, 1, 1, 1], dtype=torch.uint8)\n",
      "the mask at the current timestep shape:  torch.Size([5])\n",
      "mask loss:  tensor(9.1825, grad_fn=<MeanBackward0>)\n",
      "total:  5\n",
      "[45.91231822967529]\n",
      "5\n",
      "returned loss:  9.182463645935059\n",
      "\n",
      "\n",
      "----------done with one timestep---------------\n",
      "\n",
      "\n",
      "decoder output shape:  torch.Size([5, 9409])\n",
      "decoder hidden shape:  torch.Size([2, 5, 500])\n",
      "the target variable at the current timestamp before reshaping:  tensor([ 106, 1442,   33,  100,   85])\n",
      "the target variable at the current timestep shape before reshaping:  torch.Size([5])\n",
      "the decoder input shape(reshape the target variable):  torch.Size([1, 5])\n",
      "the mask at the current timestep:  tensor([1, 1, 1, 1, 1], dtype=torch.uint8)\n",
      "the mask at the current timestep shape:  torch.Size([5])\n",
      "mask loss:  tensor(9.1802, grad_fn=<MeanBackward0>)\n",
      "total:  5\n",
      "[45.91231822967529, 45.90089797973633]\n",
      "10\n",
      "returned loss:  9.181321620941162\n",
      "\n",
      "\n",
      "----------done with one timestep---------------\n",
      "\n",
      "\n",
      "decoder output shape:  torch.Size([5, 9409])\n",
      "decoder hidden shape:  torch.Size([2, 5, 500])\n",
      "the target variable at the current timestamp before reshaping:  tensor([ 128,  196, 1437,   31,    2])\n",
      "the target variable at the current timestep shape before reshaping:  torch.Size([5])\n",
      "the decoder input shape(reshape the target variable):  torch.Size([1, 5])\n",
      "the mask at the current timestep:  tensor([1, 1, 1, 1, 1], dtype=torch.uint8)\n",
      "the mask at the current timestep shape:  torch.Size([5])\n",
      "mask loss:  tensor(9.1787, grad_fn=<MeanBackward0>)\n",
      "total:  5\n",
      "[45.91231822967529, 45.90089797973633, 45.89340686798096]\n",
      "15\n",
      "returned loss:  9.180441538492838\n",
      "\n",
      "\n",
      "----------done with one timestep---------------\n",
      "\n",
      "\n",
      "decoder output shape:  torch.Size([5, 9409])\n",
      "decoder hidden shape:  torch.Size([2, 5, 500])\n",
      "the target variable at the current timestamp before reshaping:  tensor([  2,  26,  27, 881,   0])\n",
      "the target variable at the current timestep shape before reshaping:  torch.Size([5])\n",
      "the decoder input shape(reshape the target variable):  torch.Size([1, 5])\n",
      "the mask at the current timestep:  tensor([1, 1, 1, 1, 0], dtype=torch.uint8)\n",
      "the mask at the current timestep shape:  torch.Size([5])\n",
      "mask loss:  tensor(9.1757, grad_fn=<MeanBackward0>)\n",
      "total:  4\n",
      "[45.91231822967529, 45.90089797973633, 45.89340686798096, 36.702659606933594]\n",
      "19\n",
      "returned loss:  9.179435930754009\n",
      "\n",
      "\n",
      "----------done with one timestep---------------\n",
      "\n",
      "\n",
      "decoder output shape:  torch.Size([5, 9409])\n",
      "decoder hidden shape:  torch.Size([2, 5, 500])\n",
      "the target variable at the current timestamp before reshaping:  tensor([   0, 1000,   87,  244,    0])\n",
      "the target variable at the current timestep shape before reshaping:  torch.Size([5])\n",
      "the decoder input shape(reshape the target variable):  torch.Size([1, 5])\n",
      "the mask at the current timestep:  tensor([0, 1, 1, 1, 0], dtype=torch.uint8)\n",
      "the mask at the current timestep shape:  torch.Size([5])\n",
      "mask loss:  tensor(9.1486, grad_fn=<MeanBackward0>)\n",
      "total:  3\n",
      "[45.91231822967529, 45.90089797973633, 45.89340686798096, 36.702659606933594, 27.445810317993164]\n",
      "22\n",
      "returned loss:  9.175231500105424\n",
      "\n",
      "\n",
      "----------done with one timestep---------------\n",
      "\n",
      "\n",
      "decoder output shape:  torch.Size([5, 9409])\n",
      "decoder hidden shape:  torch.Size([2, 5, 500])\n",
      "the target variable at the current timestamp before reshaping:  tensor([   0,    2,  656, 2643,    0])\n",
      "the target variable at the current timestep shape before reshaping:  torch.Size([5])\n",
      "the decoder input shape(reshape the target variable):  torch.Size([1, 5])\n",
      "the mask at the current timestep:  tensor([0, 1, 1, 1, 0], dtype=torch.uint8)\n",
      "the mask at the current timestep shape:  torch.Size([5])\n",
      "mask loss:  tensor(9.1162, grad_fn=<MeanBackward0>)\n",
      "total:  3\n",
      "[45.91231822967529, 45.90089797973633, 45.89340686798096, 36.702659606933594, 27.445810317993164, 27.348661422729492]\n",
      "25\n",
      "returned loss:  9.168150177001953\n",
      "\n",
      "\n",
      "----------done with one timestep---------------\n",
      "\n",
      "\n",
      "decoder output shape:  torch.Size([5, 9409])\n",
      "decoder hidden shape:  torch.Size([2, 5, 500])\n",
      "the target variable at the current timestamp before reshaping:  tensor([  0,   0,  98, 256,   0])\n",
      "the target variable at the current timestep shape before reshaping:  torch.Size([5])\n",
      "the decoder input shape(reshape the target variable):  torch.Size([1, 5])\n",
      "the mask at the current timestep:  tensor([0, 0, 1, 1, 0], dtype=torch.uint8)\n",
      "the mask at the current timestep shape:  torch.Size([5])\n",
      "mask loss:  tensor(9.0840, grad_fn=<MeanBackward0>)\n",
      "total:  2\n",
      "[45.91231822967529, 45.90089797973633, 45.89340686798096, 36.702659606933594, 27.445810317993164, 27.348661422729492, 18.167919158935547]\n",
      "27\n",
      "returned loss:  9.161913836443865\n",
      "\n",
      "\n",
      "----------done with one timestep---------------\n",
      "\n",
      "\n",
      "decoder output shape:  torch.Size([5, 9409])\n",
      "decoder hidden shape:  torch.Size([2, 5, 500])\n",
      "the target variable at the current timestamp before reshaping:  tensor([ 0,  0, 35,  2,  0])\n",
      "the target variable at the current timestep shape before reshaping:  torch.Size([5])\n",
      "the decoder input shape(reshape the target variable):  torch.Size([1, 5])\n",
      "the mask at the current timestep:  tensor([0, 0, 1, 1, 0], dtype=torch.uint8)\n",
      "the mask at the current timestep shape:  torch.Size([5])\n",
      "mask loss:  tensor(9.0701, grad_fn=<MeanBackward0>)\n",
      "total:  2\n",
      "[45.91231822967529, 45.90089797973633, 45.89340686798096, 36.702659606933594, 27.445810317993164, 27.348661422729492, 18.167919158935547, 18.140270233154297]\n",
      "29\n",
      "returned loss:  9.155584269556506\n",
      "\n",
      "\n",
      "----------done with one timestep---------------\n",
      "\n",
      "\n",
      "decoder output shape:  torch.Size([5, 9409])\n",
      "decoder hidden shape:  torch.Size([2, 5, 500])\n",
      "the target variable at the current timestamp before reshaping:  tensor([ 0,  0, 26,  0,  0])\n",
      "the target variable at the current timestep shape before reshaping:  torch.Size([5])\n",
      "the decoder input shape(reshape the target variable):  torch.Size([1, 5])\n",
      "the mask at the current timestep:  tensor([0, 0, 1, 0, 0], dtype=torch.uint8)\n",
      "the mask at the current timestep shape:  torch.Size([5])\n",
      "mask loss:  tensor(9.0541, grad_fn=<MeanBackward0>)\n",
      "total:  1\n",
      "[45.91231822967529, 45.90089797973633, 45.89340686798096, 36.702659606933594, 27.445810317993164, 27.348661422729492, 18.167919158935547, 18.140270233154297, 9.054070472717285]\n",
      "30\n",
      "returned loss:  9.152200476328533\n",
      "\n",
      "\n",
      "----------done with one timestep---------------\n",
      "\n",
      "\n",
      "decoder output shape:  torch.Size([5, 9409])\n",
      "decoder hidden shape:  torch.Size([2, 5, 500])\n",
      "the target variable at the current timestamp before reshaping:  tensor([0, 0, 2, 0, 0])\n",
      "the target variable at the current timestep shape before reshaping:  torch.Size([5])\n",
      "the decoder input shape(reshape the target variable):  torch.Size([1, 5])\n",
      "the mask at the current timestep:  tensor([0, 0, 1, 0, 0], dtype=torch.uint8)\n",
      "the mask at the current timestep shape:  torch.Size([5])\n",
      "mask loss:  tensor(9.0558, grad_fn=<MeanBackward0>)\n",
      "total:  1\n",
      "[45.91231822967529, 45.90089797973633, 45.89340686798096, 36.702659606933594, 27.445810317993164, 27.348661422729492, 18.167919158935547, 18.140270233154297, 9.054070472717285, 9.055790901184082]\n",
      "31\n",
      "returned loss:  9.149090490033549\n",
      "\n",
      "\n",
      "----------done with one timestep---------------\n",
      "\n",
      "\n"
     ]
    },
    {
     "name": "stderr",
     "output_type": "stream",
     "text": [
      "/pytorch/aten/src/ATen/native/LegacyDefinitions.cpp:48: UserWarning: masked_select received a mask with dtype torch.uint8, this behavior is now deprecated,please use a mask with dtype torch.bool instead.\n",
      "/pytorch/aten/src/ATen/native/LegacyDefinitions.cpp:48: UserWarning: masked_select received a mask with dtype torch.uint8, this behavior is now deprecated,please use a mask with dtype torch.bool instead.\n",
      "/pytorch/aten/src/ATen/native/LegacyDefinitions.cpp:48: UserWarning: masked_select received a mask with dtype torch.uint8, this behavior is now deprecated,please use a mask with dtype torch.bool instead.\n",
      "/pytorch/aten/src/ATen/native/LegacyDefinitions.cpp:48: UserWarning: masked_select received a mask with dtype torch.uint8, this behavior is now deprecated,please use a mask with dtype torch.bool instead.\n",
      "/pytorch/aten/src/ATen/native/LegacyDefinitions.cpp:48: UserWarning: masked_select received a mask with dtype torch.uint8, this behavior is now deprecated,please use a mask with dtype torch.bool instead.\n",
      "/pytorch/aten/src/ATen/native/LegacyDefinitions.cpp:48: UserWarning: masked_select received a mask with dtype torch.uint8, this behavior is now deprecated,please use a mask with dtype torch.bool instead.\n",
      "/pytorch/aten/src/ATen/native/LegacyDefinitions.cpp:48: UserWarning: masked_select received a mask with dtype torch.uint8, this behavior is now deprecated,please use a mask with dtype torch.bool instead.\n",
      "/pytorch/aten/src/ATen/native/LegacyDefinitions.cpp:48: UserWarning: masked_select received a mask with dtype torch.uint8, this behavior is now deprecated,please use a mask with dtype torch.bool instead.\n",
      "/pytorch/aten/src/ATen/native/LegacyDefinitions.cpp:48: UserWarning: masked_select received a mask with dtype torch.uint8, this behavior is now deprecated,please use a mask with dtype torch.bool instead.\n",
      "/pytorch/aten/src/ATen/native/LegacyDefinitions.cpp:48: UserWarning: masked_select received a mask with dtype torch.uint8, this behavior is now deprecated,please use a mask with dtype torch.bool instead.\n"
     ]
    }
   ],
   "source": [
    "# Visualize what's happening in the loss function\n",
    "small_batch_size = 5\n",
    "batches = batch2TrainData(voc, [random.choice(pairs) for _ in range(small_batch_size)])\n",
    "input_variable, lengths, target_variable, mask, max_target_len = batches\n",
    "\n",
    "print('input_variable shape: ', input_variable.shape)\n",
    "print('lengths shape: ', lengths.shape)\n",
    "print('target_variable shape: ', target_variable.shape)\n",
    "print('mask shape: ', mask.shape)\n",
    "print('max_target_len: ', max_target_len)\n",
    "\n",
    "#Define the parameters\n",
    "hidden_size = 500\n",
    "encoder_n_layers = 2\n",
    "decoder_n_layers = 2\n",
    "dropout = 0.1\n",
    "attn_model = 'dot'\n",
    "embedding = nn.Embedding(voc.num_words, hidden_size)\n",
    "\n",
    "#Define the encoder and decoder\n",
    "encoder = EncoderRNN(hidden_size, embedding, encoder_n_layers, dropout)\n",
    "decoder = LuongAttnDecoderRNN(attn_model, embedding, hidden_size, voc.num_words, decoder_n_layers, dropout)\n",
    "encoder = encoder.to(device)\n",
    "decoder = decoder.to(device)\n",
    "#Ensure the dropout layers are in train mode\n",
    "encoder.train()\n",
    "decoder.train()\n",
    "\n",
    "#Initializing the optimizers\n",
    "encoder_optimizer = optim.Adam(encoder.parameters(), lr=0.0001)\n",
    "decoder_optimizer = optim.Adam(decoder.parameters(), lr=0.0001)\n",
    "encoder_optimizer.zero_grad()\n",
    "decoder_optimizer.zero_grad()\n",
    "\n",
    "input_variable = input_variable.to(device)\n",
    "lengths = lengths.to(device)\n",
    "target_variable = target_variable.to(device)\n",
    "mask = mask.to(device)\n",
    "\n",
    "loss = 0\n",
    "print_losses = []\n",
    "n_totals = 0\n",
    "\n",
    "encoder_outputs, encoder_hidden = encoder(input_variable, lengths)\n",
    "print('encoder outputs shape: ', encoder_outputs.shape)\n",
    "print('last encoder hidden shape: ', encoder_hidden.shape)\n",
    "\n",
    "decoder_input = torch.LongTensor([[SOS_token for _ in range(small_batch_size)]])\n",
    "decoder_input = decoder_input.to(device)\n",
    "print('initial decoder input shape: ', decoder_input.shape)\n",
    "print(decoder_input)\n",
    "\n",
    "#set initial decoder hidden state to the encoder's final hidden state\n",
    "decoder_hidden = encoder_hidden[:decoder.n_layers]\n",
    "print('initial decoder hidden state shape: ', decoder_hidden.shape)\n",
    "print('\\n')\n",
    "print('-----------------------------------------')\n",
    "print(\"now let's look what's happening in every timestep of the GRU!\")\n",
    "print('------------------------------------------')\n",
    "print('\\n')\n",
    "\n",
    "\n",
    "#Assume we are using teacher forcing\n",
    "for t in range(max_target_len):\n",
    "    decoder_output, decoder_hidden = decoder(decoder_input, decoder_hidden, encoder_outputs)\n",
    "    print('decoder output shape: ', decoder_output.shape)\n",
    "    print('decoder hidden shape: ', decoder_hidden.shape)\n",
    "    \n",
    "    #teacher forcing: next input is current target\n",
    "    decoder_input = target_variable[t].view(1,-1)\n",
    "    print('the target variable at the current timestamp before reshaping: ', target_variable[t])\n",
    "    print('the target variable at the current timestep shape before reshaping: ', target_variable[t].shape)\n",
    "    print('the decoder input shape(reshape the target variable): ', decoder_input.shape)\n",
    "    #calculate and accumulate loss\n",
    "    print('the mask at the current timestep: ', mask[t])\n",
    "    print('the mask at the current timestep shape: ', mask[t].shape)\n",
    "    mask_loss, nTotal = maskNLLLoss(decoder_output, target_variable[t], mask[t])\n",
    "    print('mask loss: ', mask_loss)\n",
    "    print('total: ', nTotal)\n",
    "    loss += mask_loss\n",
    "    print_losses.append(mask_loss.item()*nTotal)\n",
    "    print(print_losses)\n",
    "    n_totals += nTotal\n",
    "    print(n_totals)\n",
    "    encoder_optimizer.step()\n",
    "    decoder_optimizer.step()\n",
    "    returned_loss = sum(print_losses)/n_totals\n",
    "    print('returned loss: ', returned_loss)\n",
    "    print('\\n')\n",
    "    print('----------done with one timestep---------------')\n",
    "    print('\\n')"
   ]
  },
  {
   "cell_type": "code",
   "execution_count": 84,
   "metadata": {},
   "outputs": [],
   "source": [
    "def train(input_variable, lengths, target_variable, mask, max_target_len, encoder, decoder, embedding,\n",
    "          encoder_optimizer, decoder_optimizer, batch_size, clip, max_length=MAX_LENGTH):\n",
    "\n",
    "    # Zero gradients\n",
    "    encoder_optimizer.zero_grad()\n",
    "    decoder_optimizer.zero_grad()\n",
    "\n",
    "    # Set device options\n",
    "    input_variable = input_variable.to(device)\n",
    "    lengths = lengths.to(device)\n",
    "    target_variable = target_variable.to(device)\n",
    "    mask = mask.to(device)\n",
    "\n",
    "    # Initialize variables\n",
    "    loss = 0\n",
    "    print_losses = []\n",
    "    n_totals = 0\n",
    "\n",
    "    # Forward pass through encoder\n",
    "    encoder_outputs, encoder_hidden = encoder(input_variable, lengths)\n",
    "\n",
    "    # Create initial decoder input (start with SOS tokens for each sentence)\n",
    "    decoder_input = torch.LongTensor([[SOS_token for _ in range(batch_size)]])\n",
    "    decoder_input = decoder_input.to(device)\n",
    "\n",
    "    # Set initial decoder hidden state to the encoder's final hidden state\n",
    "    decoder_hidden = encoder_hidden[:decoder.n_layers]\n",
    "\n",
    "    # Determine if we are using teacher forcing this iteration\n",
    "    use_teacher_forcing = True if random.random() < teacher_forcing_ratio else False\n",
    "\n",
    "    # Forward batch of sequences through decoder one time step at a time\n",
    "    if use_teacher_forcing:\n",
    "        for t in range(max_target_len):\n",
    "            decoder_output, decoder_hidden = decoder(\n",
    "                decoder_input, decoder_hidden, encoder_outputs\n",
    "            )\n",
    "            # Teacher forcing: next input is current target\n",
    "            decoder_input = target_variable[t].view(1, -1)\n",
    "            # Calculate and accumulate loss\n",
    "            mask_loss, nTotal = maskNLLLoss(decoder_output, target_variable[t], mask[t])\n",
    "            loss += mask_loss\n",
    "            print_losses.append(mask_loss.item() * nTotal)\n",
    "            n_totals += nTotal\n",
    "    else:\n",
    "        for t in range(max_target_len):\n",
    "            decoder_output, decoder_hidden = decoder(\n",
    "                decoder_input, decoder_hidden, encoder_outputs\n",
    "            )\n",
    "            # No teacher forcing: next input is decoder's own current output\n",
    "            _, topi = decoder_output.topk(1)\n",
    "            decoder_input = torch.LongTensor([[topi[i][0] for i in range(batch_size)]])\n",
    "            decoder_input = decoder_input.to(device)\n",
    "            # Calculate and accumulate loss\n",
    "            mask_loss, nTotal = maskNLLLoss(decoder_output, target_variable[t], mask[t])\n",
    "            loss += mask_loss\n",
    "            print_losses.append(mask_loss.item() * nTotal)\n",
    "            n_totals += nTotal\n",
    "\n",
    "    # Perform backpropatation\n",
    "    loss.backward()\n",
    "\n",
    "    # Clip gradients: gradients are modified in place\n",
    "    _ = nn.utils.clip_grad_norm_(encoder.parameters(), clip)\n",
    "    _ = nn.utils.clip_grad_norm_(decoder.parameters(), clip)\n",
    "\n",
    "    # Adjust model weights\n",
    "    encoder_optimizer.step()\n",
    "    decoder_optimizer.step()\n",
    "\n",
    "    return sum(print_losses) / n_totals"
   ]
  },
  {
   "cell_type": "code",
   "execution_count": 85,
   "metadata": {},
   "outputs": [],
   "source": [
    "def trainIters(model_name, voc, pairs, encoder, decoder, encoder_optimizer, decoder_optimizer, embedding, encoder_n_layers, decoder_n_layers, save_dir, n_iteration, batch_size, print_every, save_every, clip, corpus_name, loadFilename):\n",
    "\n",
    "    # Load batches for each iteration\n",
    "    training_batches = [batch2TrainData(voc, [random.choice(pairs) for _ in range(batch_size)])\n",
    "                      for _ in range(n_iteration)]\n",
    "\n",
    "    # Initializations\n",
    "    print('Initializing ...')\n",
    "    start_iteration = 1\n",
    "    print_loss = 0\n",
    "    if loadFilename:\n",
    "        start_iteration = checkpoint['iteration'] + 1\n",
    "\n",
    "    # Training loop\n",
    "    print(\"Training...\")\n",
    "    for iteration in range(start_iteration, n_iteration + 1):\n",
    "        training_batch = training_batches[iteration - 1]\n",
    "        # Extract fields from batch\n",
    "        input_variable, lengths, target_variable, mask, max_target_len = training_batch\n",
    "\n",
    "        # Run a training iteration with batch\n",
    "        loss = train(input_variable, lengths, target_variable, mask, max_target_len, encoder,\n",
    "                     decoder, embedding, encoder_optimizer, decoder_optimizer, batch_size, clip)\n",
    "        print_loss += loss\n",
    "\n",
    "        # Print progress\n",
    "        if iteration % print_every == 0:\n",
    "            print_loss_avg = print_loss / print_every\n",
    "            print(\"Iteration: {}; Percent complete: {:.1f}%; Average loss: {:.4f}\".format(iteration, iteration / n_iteration * 100, print_loss_avg))\n",
    "            print_loss = 0\n",
    "\n",
    "#         # Save checkpoint\n",
    "#         if (iteration % save_every == 0):\n",
    "#             directory = os.path.join(save_dir, model_name, corpus_name, '{}-{}_{}'.format(encoder_n_layers, decoder_n_layers, hidden_size))\n",
    "#             if not os.path.exists(directory):\n",
    "#                 os.makedirs(directory)\n",
    "#             torch.save({\n",
    "#                 'iteration': iteration,\n",
    "#                 'en': encoder.state_dict(),\n",
    "#                 'de': decoder.state_dict(),\n",
    "#                 'en_opt': encoder_optimizer.state_dict(),\n",
    "#                 'de_opt': decoder_optimizer.state_dict(),\n",
    "#                 'loss': loss,\n",
    "#                 'voc_dict': voc.__dict__,\n",
    "#                 'embedding': embedding.state_dict()\n",
    "#             }, os.path.join(directory, '{}_{}.tar'.format(iteration, 'checkpoint')))"
   ]
  },
  {
   "cell_type": "code",
   "execution_count": 86,
   "metadata": {},
   "outputs": [],
   "source": [
    "class GreedySearchDecoder(nn.Module):\n",
    "    def __init__(self, encoder, decoder):\n",
    "        super(GreedySearchDecoder, self).__init__()\n",
    "        self.encoder = encoder\n",
    "        self.decoder = decoder\n",
    "\n",
    "    def forward(self, input_seq, input_length, max_length):\n",
    "        # Forward input through encoder model\n",
    "        encoder_outputs, encoder_hidden = self.encoder(input_seq, input_length)\n",
    "        # Prepare encoder's final hidden layer to be first hidden input to the decoder\n",
    "        decoder_hidden = encoder_hidden[:decoder.n_layers]\n",
    "        # Initialize decoder input with SOS_token\n",
    "        decoder_input = torch.ones(1, 1, device=device, dtype=torch.long) * SOS_token\n",
    "        # Initialize tensors to append decoded words to\n",
    "        all_tokens = torch.zeros([0], device=device, dtype=torch.long)\n",
    "        all_scores = torch.zeros([0], device=device)\n",
    "        # Iteratively decode one word token at a time\n",
    "        for _ in range(max_length):\n",
    "            # Forward pass through decoder\n",
    "            decoder_output, decoder_hidden = self.decoder(decoder_input, decoder_hidden, encoder_outputs)\n",
    "            # Obtain most likely word token and its softmax score\n",
    "            decoder_scores, decoder_input = torch.max(decoder_output, dim=1)\n",
    "            # Record token and score\n",
    "            all_tokens = torch.cat((all_tokens, decoder_input), dim=0)\n",
    "            all_scores = torch.cat((all_scores, decoder_scores), dim=0)\n",
    "            # Prepare current token to be next decoder input (add a dimension)\n",
    "            decoder_input = torch.unsqueeze(decoder_input, 0)\n",
    "        # Return collections of word tokens and scores\n",
    "        return all_tokens, all_scores"
   ]
  },
  {
   "cell_type": "code",
   "execution_count": 87,
   "metadata": {},
   "outputs": [],
   "source": [
    "def evaluate(encoder, decoder, searcher, voc, sentence, max_length=MAX_LENGTH):\n",
    "    ### Format input sentence as a batch\n",
    "    # words -> indexes\n",
    "    indexes_batch = [indexesFromSentence(voc, sentence)]\n",
    "    # Create lengths tensor\n",
    "    lengths = torch.tensor([len(indexes) for indexes in indexes_batch])\n",
    "    # Transpose dimensions of batch to match models' expectations\n",
    "    input_batch = torch.LongTensor(indexes_batch).transpose(0, 1)\n",
    "    # Use appropriate device\n",
    "    input_batch = input_batch.to(device)\n",
    "    lengths = lengths.to(device)\n",
    "    # Decode sentence with searcher\n",
    "    tokens, scores = searcher(input_batch, lengths, max_length)\n",
    "    # indexes -> words\n",
    "    decoded_words = [voc.index2word[token.item()] for token in tokens]\n",
    "    return decoded_words\n",
    "\n",
    "\n",
    "def evaluateInput(encoder, decoder, searcher, voc):\n",
    "    input_sentence = ''\n",
    "    while(1):\n",
    "        try:\n",
    "            # Get input sentence\n",
    "            input_sentence = input('> ')\n",
    "            # Check if it is quit case\n",
    "            if input_sentence == 'q' or input_sentence == 'quit': break\n",
    "            # Normalize sentence\n",
    "            input_sentence = normalizeString(input_sentence)\n",
    "            # Evaluate sentence\n",
    "            output_words = evaluate(encoder, decoder, searcher, voc, input_sentence)\n",
    "            # Format and print response sentence\n",
    "            output_words[:] = [x for x in output_words if not (x == 'EOS' or x == 'PAD')]\n",
    "            print('Bot:', ' '.join(output_words))\n",
    "\n",
    "        except KeyError:\n",
    "            print(\"Error: Encountered unknown word.\")\n"
   ]
  },
  {
   "cell_type": "code",
   "execution_count": 88,
   "metadata": {},
   "outputs": [
    {
     "name": "stdout",
     "output_type": "stream",
     "text": [
      "Building encoder and decoder ...\n",
      "Models built and ready to go!\n"
     ]
    }
   ],
   "source": [
    "model_name = 'cb_model'\n",
    "attn_model = 'dot'\n",
    "#attn_model = 'general'\n",
    "#attn_model = 'concat'\n",
    "hidden_size = 500\n",
    "encoder_n_layers = 2\n",
    "decoder_n_layers = 2\n",
    "dropout = 0.1\n",
    "batch_size = 64\n",
    "\n",
    "# Set checkpoint to load from; set to None if starting from scratch\n",
    "loadFilename = None\n",
    "checkpoint_iter = 4000\n",
    "#loadFilename = os.path.join(save_dir, model_name, corpus_name,\n",
    "#                            '{}-{}_{}'.format(encoder_n_layers, decoder_n_layers, hidden_size),\n",
    "#                            '{}_checkpoint.tar'.format(checkpoint_iter))\n",
    "\n",
    "\n",
    "# Load model if a loadFilename is provided\n",
    "if loadFilename:\n",
    "    # If loading on same machine the model was trained on\n",
    "    checkpoint = torch.load(loadFilename)\n",
    "    # If loading a model trained on GPU to CPU\n",
    "    #checkpoint = torch.load(loadFilename, map_location=torch.device('cpu'))\n",
    "    encoder_sd = checkpoint['en']\n",
    "    decoder_sd = checkpoint['de']\n",
    "    encoder_optimizer_sd = checkpoint['en_opt']\n",
    "    decoder_optimizer_sd = checkpoint['de_opt']\n",
    "    embedding_sd = checkpoint['embedding']\n",
    "    voc.__dict__ = checkpoint['voc_dict']\n",
    "\n",
    "\n",
    "print('Building encoder and decoder ...')\n",
    "# Initialize word embeddings\n",
    "embedding = nn.Embedding(voc.num_words, hidden_size)\n",
    "if loadFilename:\n",
    "    embedding.load_state_dict(embedding_sd)\n",
    "# Initialize encoder & decoder models\n",
    "encoder = EncoderRNN(hidden_size, embedding, encoder_n_layers, dropout)\n",
    "decoder = LuongAttnDecoderRNN(attn_model, embedding, hidden_size, voc.num_words, decoder_n_layers, dropout)\n",
    "if loadFilename:\n",
    "    encoder.load_state_dict(encoder_sd)\n",
    "    decoder.load_state_dict(decoder_sd)\n",
    "# Use appropriate device\n",
    "encoder = encoder.to(device)\n",
    "decoder = decoder.to(device)\n",
    "print('Models built and ready to go!')"
   ]
  },
  {
   "cell_type": "code",
   "execution_count": null,
   "metadata": {},
   "outputs": [],
   "source": [
    "# Configure training/optimization\n",
    "clip = 50.0\n",
    "teacher_forcing_ratio = 1.0\n",
    "learning_rate = 0.0001\n",
    "decoder_learning_ratio = 5.0\n",
    "n_iteration = 4000\n",
    "print_every = 1\n",
    "save_every = None\n",
    "\n",
    "# Ensure dropout layers are in train mode\n",
    "encoder.train()\n",
    "decoder.train()\n",
    "\n",
    "# Initialize optimizers\n",
    "print('Building optimizers ...')\n",
    "encoder_optimizer = optim.Adam(encoder.parameters(), lr=learning_rate)\n",
    "decoder_optimizer = optim.Adam(decoder.parameters(), lr=learning_rate * decoder_learning_ratio)\n",
    "if loadFilename:\n",
    "    encoder_optimizer.load_state_dict(encoder_optimizer_sd)\n",
    "    decoder_optimizer.load_state_dict(decoder_optimizer_sd)\n",
    "\n",
    "# If you have cuda, configure cuda to call\n",
    "for state in encoder_optimizer.state.values():\n",
    "    for k, v in state.items():\n",
    "        if isinstance(v, torch.Tensor):\n",
    "            state[k] = v.cuda()\n",
    "\n",
    "for state in decoder_optimizer.state.values():\n",
    "    for k, v in state.items():\n",
    "        if isinstance(v, torch.Tensor):\n",
    "            state[k] = v.cuda()\n",
    "\n",
    "save_dir, corpus_name = None, None\n",
    "            \n",
    "# Run training iterations\n",
    "print(\"Starting Training!\")\n",
    "trainIters(model_name, voc, pairs, encoder, decoder, encoder_optimizer, decoder_optimizer,\n",
    "           embedding, encoder_n_layers, decoder_n_layers, save_dir, n_iteration, batch_size,\n",
    "           print_every, save_every, clip, corpus_name, loadFilename)"
   ]
  },
  {
   "cell_type": "code",
   "execution_count": 96,
   "metadata": {},
   "outputs": [
    {
     "name": "stdout",
     "output_type": "stream",
     "text": [
      "> hello?\n",
      "Bot: hello is claudia here ?\n",
      "> where am I?\n",
      "Bot: you re not\n",
      "> who are you?\n",
      "Bot: i m mimi i m dying\n",
      "> are you my friend?\n",
      "Bot: no i m not\n",
      "> you are under arrest!\n",
      "Bot: i m not\n",
      "> im just kidding\n",
      "Bot: don t be ridiculous !\n",
      "> where are you from?\n",
      "Bot: i m going to work in the city\n",
      "> it is time for me to leave\n",
      "Bot: you will not know that to you\n",
      "> goodbye\n",
      "Bot: zaltar !\n"
     ]
    },
    {
     "ename": "KeyboardInterrupt",
     "evalue": "",
     "output_type": "error",
     "traceback": [
      "\u001b[0;31m---------------------------------------------------------------------------\u001b[0m",
      "\u001b[0;31mKeyboardInterrupt\u001b[0m                         Traceback (most recent call last)",
      "\u001b[0;32m/usr/local/lib/python3.6/dist-packages/ipykernel/kernelbase.py\u001b[0m in \u001b[0;36m_input_request\u001b[0;34m(self, prompt, ident, parent, password)\u001b[0m\n\u001b[1;32m    884\u001b[0m             \u001b[0;32mtry\u001b[0m\u001b[0;34m:\u001b[0m\u001b[0;34m\u001b[0m\u001b[0;34m\u001b[0m\u001b[0m\n\u001b[0;32m--> 885\u001b[0;31m                 \u001b[0mident\u001b[0m\u001b[0;34m,\u001b[0m \u001b[0mreply\u001b[0m \u001b[0;34m=\u001b[0m \u001b[0mself\u001b[0m\u001b[0;34m.\u001b[0m\u001b[0msession\u001b[0m\u001b[0;34m.\u001b[0m\u001b[0mrecv\u001b[0m\u001b[0;34m(\u001b[0m\u001b[0mself\u001b[0m\u001b[0;34m.\u001b[0m\u001b[0mstdin_socket\u001b[0m\u001b[0;34m,\u001b[0m \u001b[0;36m0\u001b[0m\u001b[0;34m)\u001b[0m\u001b[0;34m\u001b[0m\u001b[0;34m\u001b[0m\u001b[0m\n\u001b[0m\u001b[1;32m    886\u001b[0m             \u001b[0;32mexcept\u001b[0m \u001b[0mException\u001b[0m\u001b[0;34m:\u001b[0m\u001b[0;34m\u001b[0m\u001b[0;34m\u001b[0m\u001b[0m\n",
      "\u001b[0;32m/usr/local/lib/python3.6/dist-packages/jupyter_client/session.py\u001b[0m in \u001b[0;36mrecv\u001b[0;34m(self, socket, mode, content, copy)\u001b[0m\n\u001b[1;32m    802\u001b[0m         \u001b[0;32mtry\u001b[0m\u001b[0;34m:\u001b[0m\u001b[0;34m\u001b[0m\u001b[0;34m\u001b[0m\u001b[0m\n\u001b[0;32m--> 803\u001b[0;31m             \u001b[0mmsg_list\u001b[0m \u001b[0;34m=\u001b[0m \u001b[0msocket\u001b[0m\u001b[0;34m.\u001b[0m\u001b[0mrecv_multipart\u001b[0m\u001b[0;34m(\u001b[0m\u001b[0mmode\u001b[0m\u001b[0;34m,\u001b[0m \u001b[0mcopy\u001b[0m\u001b[0;34m=\u001b[0m\u001b[0mcopy\u001b[0m\u001b[0;34m)\u001b[0m\u001b[0;34m\u001b[0m\u001b[0;34m\u001b[0m\u001b[0m\n\u001b[0m\u001b[1;32m    804\u001b[0m         \u001b[0;32mexcept\u001b[0m \u001b[0mzmq\u001b[0m\u001b[0;34m.\u001b[0m\u001b[0mZMQError\u001b[0m \u001b[0;32mas\u001b[0m \u001b[0me\u001b[0m\u001b[0;34m:\u001b[0m\u001b[0;34m\u001b[0m\u001b[0;34m\u001b[0m\u001b[0m\n",
      "\u001b[0;32m~/.local/lib/python3.6/site-packages/zmq/sugar/socket.py\u001b[0m in \u001b[0;36mrecv_multipart\u001b[0;34m(self, flags, copy, track)\u001b[0m\n\u001b[1;32m    469\u001b[0m         \"\"\"\n\u001b[0;32m--> 470\u001b[0;31m         \u001b[0mparts\u001b[0m \u001b[0;34m=\u001b[0m \u001b[0;34m[\u001b[0m\u001b[0mself\u001b[0m\u001b[0;34m.\u001b[0m\u001b[0mrecv\u001b[0m\u001b[0;34m(\u001b[0m\u001b[0mflags\u001b[0m\u001b[0;34m,\u001b[0m \u001b[0mcopy\u001b[0m\u001b[0;34m=\u001b[0m\u001b[0mcopy\u001b[0m\u001b[0;34m,\u001b[0m \u001b[0mtrack\u001b[0m\u001b[0;34m=\u001b[0m\u001b[0mtrack\u001b[0m\u001b[0;34m)\u001b[0m\u001b[0;34m]\u001b[0m\u001b[0;34m\u001b[0m\u001b[0;34m\u001b[0m\u001b[0m\n\u001b[0m\u001b[1;32m    471\u001b[0m         \u001b[0;31m# have first part already, only loop while more to receive\u001b[0m\u001b[0;34m\u001b[0m\u001b[0;34m\u001b[0m\u001b[0;34m\u001b[0m\u001b[0m\n",
      "\u001b[0;32mzmq/backend/cython/socket.pyx\u001b[0m in \u001b[0;36mzmq.backend.cython.socket.Socket.recv\u001b[0;34m()\u001b[0m\n",
      "\u001b[0;32mzmq/backend/cython/socket.pyx\u001b[0m in \u001b[0;36mzmq.backend.cython.socket.Socket.recv\u001b[0;34m()\u001b[0m\n",
      "\u001b[0;32mzmq/backend/cython/socket.pyx\u001b[0m in \u001b[0;36mzmq.backend.cython.socket._recv_copy\u001b[0;34m()\u001b[0m\n",
      "\u001b[0;32m~/.local/lib/python3.6/site-packages/zmq/backend/cython/checkrc.pxd\u001b[0m in \u001b[0;36mzmq.backend.cython.checkrc._check_rc\u001b[0;34m()\u001b[0m\n",
      "\u001b[0;31mKeyboardInterrupt\u001b[0m: ",
      "\nDuring handling of the above exception, another exception occurred:\n",
      "\u001b[0;31mKeyboardInterrupt\u001b[0m                         Traceback (most recent call last)",
      "\u001b[0;32m<ipython-input-96-3de5b829fbba>\u001b[0m in \u001b[0;36m<module>\u001b[0;34m\u001b[0m\n\u001b[1;32m      7\u001b[0m \u001b[0;34m\u001b[0m\u001b[0m\n\u001b[1;32m      8\u001b[0m \u001b[0;31m# Begin chatting (uncomment and run the following line to begin)\u001b[0m\u001b[0;34m\u001b[0m\u001b[0;34m\u001b[0m\u001b[0;34m\u001b[0m\u001b[0m\n\u001b[0;32m----> 9\u001b[0;31m \u001b[0mevaluateInput\u001b[0m\u001b[0;34m(\u001b[0m\u001b[0mencoder\u001b[0m\u001b[0;34m,\u001b[0m \u001b[0mdecoder\u001b[0m\u001b[0;34m,\u001b[0m \u001b[0msearcher\u001b[0m\u001b[0;34m,\u001b[0m \u001b[0mvoc\u001b[0m\u001b[0;34m)\u001b[0m\u001b[0;34m\u001b[0m\u001b[0;34m\u001b[0m\u001b[0m\n\u001b[0m",
      "\u001b[0;32m<ipython-input-87-697ba0b24fe3>\u001b[0m in \u001b[0;36mevaluateInput\u001b[0;34m(encoder, decoder, searcher, voc)\u001b[0m\n\u001b[1;32m     22\u001b[0m         \u001b[0;32mtry\u001b[0m\u001b[0;34m:\u001b[0m\u001b[0;34m\u001b[0m\u001b[0;34m\u001b[0m\u001b[0m\n\u001b[1;32m     23\u001b[0m             \u001b[0;31m# Get input sentence\u001b[0m\u001b[0;34m\u001b[0m\u001b[0;34m\u001b[0m\u001b[0;34m\u001b[0m\u001b[0m\n\u001b[0;32m---> 24\u001b[0;31m             \u001b[0minput_sentence\u001b[0m \u001b[0;34m=\u001b[0m \u001b[0minput\u001b[0m\u001b[0;34m(\u001b[0m\u001b[0;34m'> '\u001b[0m\u001b[0;34m)\u001b[0m\u001b[0;34m\u001b[0m\u001b[0;34m\u001b[0m\u001b[0m\n\u001b[0m\u001b[1;32m     25\u001b[0m             \u001b[0;31m# Check if it is quit case\u001b[0m\u001b[0;34m\u001b[0m\u001b[0;34m\u001b[0m\u001b[0;34m\u001b[0m\u001b[0m\n\u001b[1;32m     26\u001b[0m             \u001b[0;32mif\u001b[0m \u001b[0minput_sentence\u001b[0m \u001b[0;34m==\u001b[0m \u001b[0;34m'q'\u001b[0m \u001b[0;32mor\u001b[0m \u001b[0minput_sentence\u001b[0m \u001b[0;34m==\u001b[0m \u001b[0;34m'quit'\u001b[0m\u001b[0;34m:\u001b[0m \u001b[0;32mbreak\u001b[0m\u001b[0;34m\u001b[0m\u001b[0;34m\u001b[0m\u001b[0m\n",
      "\u001b[0;32m/usr/local/lib/python3.6/dist-packages/ipykernel/kernelbase.py\u001b[0m in \u001b[0;36mraw_input\u001b[0;34m(self, prompt)\u001b[0m\n\u001b[1;32m    858\u001b[0m             \u001b[0mself\u001b[0m\u001b[0;34m.\u001b[0m\u001b[0m_parent_ident\u001b[0m\u001b[0;34m,\u001b[0m\u001b[0;34m\u001b[0m\u001b[0;34m\u001b[0m\u001b[0m\n\u001b[1;32m    859\u001b[0m             \u001b[0mself\u001b[0m\u001b[0;34m.\u001b[0m\u001b[0m_parent_header\u001b[0m\u001b[0;34m,\u001b[0m\u001b[0;34m\u001b[0m\u001b[0;34m\u001b[0m\u001b[0m\n\u001b[0;32m--> 860\u001b[0;31m             \u001b[0mpassword\u001b[0m\u001b[0;34m=\u001b[0m\u001b[0;32mFalse\u001b[0m\u001b[0;34m,\u001b[0m\u001b[0;34m\u001b[0m\u001b[0;34m\u001b[0m\u001b[0m\n\u001b[0m\u001b[1;32m    861\u001b[0m         )\n\u001b[1;32m    862\u001b[0m \u001b[0;34m\u001b[0m\u001b[0m\n",
      "\u001b[0;32m/usr/local/lib/python3.6/dist-packages/ipykernel/kernelbase.py\u001b[0m in \u001b[0;36m_input_request\u001b[0;34m(self, prompt, ident, parent, password)\u001b[0m\n\u001b[1;32m    888\u001b[0m             \u001b[0;32mexcept\u001b[0m \u001b[0mKeyboardInterrupt\u001b[0m\u001b[0;34m:\u001b[0m\u001b[0;34m\u001b[0m\u001b[0;34m\u001b[0m\u001b[0m\n\u001b[1;32m    889\u001b[0m                 \u001b[0;31m# re-raise KeyboardInterrupt, to truncate traceback\u001b[0m\u001b[0;34m\u001b[0m\u001b[0;34m\u001b[0m\u001b[0;34m\u001b[0m\u001b[0m\n\u001b[0;32m--> 890\u001b[0;31m                 \u001b[0;32mraise\u001b[0m \u001b[0mKeyboardInterrupt\u001b[0m\u001b[0;34m\u001b[0m\u001b[0;34m\u001b[0m\u001b[0m\n\u001b[0m\u001b[1;32m    891\u001b[0m             \u001b[0;32melse\u001b[0m\u001b[0;34m:\u001b[0m\u001b[0;34m\u001b[0m\u001b[0;34m\u001b[0m\u001b[0m\n\u001b[1;32m    892\u001b[0m                 \u001b[0;32mbreak\u001b[0m\u001b[0;34m\u001b[0m\u001b[0;34m\u001b[0m\u001b[0m\n",
      "\u001b[0;31mKeyboardInterrupt\u001b[0m: "
     ]
    }
   ],
   "source": [
    "# Set dropout layers to eval mode\n",
    "encoder.eval()\n",
    "decoder.eval()\n",
    "\n",
    "# Initialize search module\n",
    "searcher = GreedySearchDecoder(encoder, decoder)\n",
    "\n",
    "# Begin chatting (uncomment and run the following line to begin)\n",
    "evaluateInput(encoder, decoder, searcher, voc)"
   ]
  },
  {
   "cell_type": "code",
   "execution_count": null,
   "metadata": {},
   "outputs": [],
   "source": []
  },
  {
   "cell_type": "markdown",
   "metadata": {},
   "source": [
    "# Multi-Class Image Labeling using Deep Learning"
   ]
  },
  {
   "cell_type": "code",
   "execution_count": 97,
   "metadata": {},
   "outputs": [],
   "source": [
    "import pandas as pd\n",
    "import torch\n",
    "import torch.nn as nn\n",
    "from torch import optim\n",
    "import torch.nn.functional as F\n",
    "import csv\n",
    "import random\n",
    "import re\n",
    "import os\n",
    "import unicodedata\n",
    "import codecs\n",
    "import itertools\n",
    "\n",
    "# Importing a list of most commonly used words ranked in the order of decreasing commonality\n",
    "common_words = pd.read_csv('/home/gautam-admin/Desktop/anand nlp/project xray/english-word-frequency/unigram_freq.csv')\n",
    "common_words = list(common_words.word)\n",
    "common_words.remove('pulmonary')"
   ]
  },
  {
   "cell_type": "code",
   "execution_count": 98,
   "metadata": {},
   "outputs": [
    {
     "name": "stdout",
     "output_type": "stream",
     "text": [
      "/home/gautam-admin/Desktop/anand nlp/project xray/txt\n"
     ]
    }
   ],
   "source": [
    "cd '/home/gautam-admin/Desktop/anand nlp/project xray/txt/'"
   ]
  },
  {
   "cell_type": "markdown",
   "metadata": {},
   "source": [
    "## Importing text files and running text analytics"
   ]
  },
  {
   "cell_type": "code",
   "execution_count": 99,
   "metadata": {},
   "outputs": [
    {
     "name": "stdout",
     "output_type": "stream",
     "text": [
      "1722\n"
     ]
    },
    {
     "data": {
      "text/plain": [
       "['eda54116-f2c9aeaa-6a9bd0ef-079424d1-e95864c4',\n",
       " ['                                 FINAL REPORT\\n',\n",
       "  ' EXAMINATION:\\n',\n",
       "  ' Chest:  Frontal and lateral views\\n',\n",
       "  ' \\n',\n",
       "  ' INDICATION:  History: ___F with h/o HTN, CHF, Afib on coumadin, sick sinus\\n',\n",
       "  ' syndrome s/p pacer p/w left chest pain  // eval pneumonia\\n',\n",
       "  ' \\n',\n",
       "  ' TECHNIQUE:  Chest Frontal and Lateral\\n',\n",
       "  ' \\n',\n",
       "  ' COMPARISON:  ___\\n',\n",
       "  ' \\n',\n",
       "  ' FINDINGS: \\n',\n",
       "  ' \\n',\n",
       "  ' Dual lead left-sided pacemaker is again seen with leads extending to the\\n',\n",
       "  ' expected positions of the right atrium and right ventricle. The cardiac and\\n',\n",
       "  ' mediastinal silhouettes are stable. Increased perihilar interstitial opacities\\n',\n",
       "  ' bilaterally consistent with mild to moderate pulmonary edema.  No pleural\\n',\n",
       "  ' effusion or pneumothorax is seen.  There is a partially imaged left humeral\\n',\n",
       "  ' prosthesis. Chronic deformity of the right shoulder with absence of the\\n',\n",
       "  ' humeral head and cerclage wire is again seen.\\n',\n",
       "  ' \\n',\n",
       "  ' IMPRESSION: \\n',\n",
       "  ' \\n',\n",
       "  ' Pulmonary edema with persistent cardiomegaly.\\n']]"
      ]
     },
     "execution_count": 99,
     "metadata": {},
     "output_type": "execute_result"
    }
   ],
   "source": [
    "# Importing all the text files from the X-ray project\n",
    "import glob\n",
    "from tqdm import tqdm\n",
    "path = '/home/gautam-admin/Desktop/anand nlp/project xray/Project/png_files_sample/label'\n",
    "\n",
    "files = []\n",
    "for f in [f for f in glob.glob(path + \"**/*.txt\", recursive=True)]:\n",
    "    name = (f.split('/')[-1].split('.')[0])\n",
    "    with open(f, 'r') as f:\n",
    "        files.append([name, list(f)])\n",
    "print(len(files))\n",
    "(files[0])"
   ]
  },
  {
   "cell_type": "code",
   "execution_count": 100,
   "metadata": {},
   "outputs": [
    {
     "name": "stderr",
     "output_type": "stream",
     "text": [
      "100%|██████████| 1722/1722 [00:09<00:00, 178.85it/s]\n"
     ]
    }
   ],
   "source": [
    "# creating bigrams from stored txt files\n",
    "from tqdm import tqdm\n",
    "import unicodedata\n",
    "\n",
    "# Converts all text into standard english, removes any special charecters / accents\n",
    "def unicodeToAscii(s):\n",
    "    return ''.join(c for c in unicodedata.normalize('NFD', s) if unicodedata.category(c) != 'Mn')\n",
    "\n",
    "def normalizeString(s):\n",
    "    s = unicodeToAscii(s.lower().strip())\n",
    "    # Replace any .!? by a whitespace + the charecter --> '!'. \\1 means the first bracketed group --> [,!?]. r is to\n",
    "    # not consider \\1 as a character (r to escape a backslash). + means one or more\n",
    "    s = re.sub(r\"([!?])\", r' \\1', s)\n",
    "    # Remove any character that is not a sequence of lower or upper case Letters. + means one or more\n",
    "    s = re.sub(r\"[^a-zA-Z!?]+\", r\" \", s)\n",
    "    # Remove a sequence of whitespace characters\n",
    "    s = re.sub(r\"\\s+\", r\" \", s).strip()\n",
    "    return s   \n",
    "\n",
    "# Creating a list that stores bigrams of all text files\n",
    "file_bigrams = []\n",
    "stopwords = ['radiographs']\n",
    "for file in tqdm(files):\n",
    "    sentence = [normalizeString(x).split() for x in file[1]]\n",
    "    x=[]\n",
    "    for i in range(len(sentence)):\n",
    "        for j in range(len(sentence[i])-1):\n",
    "            x.append(sentence[i][j]+' '+sentence[i][j+1])\n",
    "    # Removes all words that are common/stopwords using the common_words list\n",
    "    file_bigrams.append([file[0]] + list(set([x for x in x if (x.split(' ')[0]) not in ((common_words)[:10000]+stopwords)])))\n",
    "\n",
    "# print(file_bigrams)"
   ]
  },
  {
   "cell_type": "code",
   "execution_count": 101,
   "metadata": {},
   "outputs": [
    {
     "name": "stderr",
     "output_type": "stream",
     "text": [
      "  0%|          | 6/1722 [00:00<00:31, 54.93it/s]"
     ]
    },
    {
     "name": "stdout",
     "output_type": "stream",
     "text": [
      "replacing first or second common word with \"\"...\n"
     ]
    },
    {
     "name": "stderr",
     "output_type": "stream",
     "text": [
      "100%|██████████| 1722/1722 [00:21<00:00, 81.27it/s]\n",
      "100%|██████████| 1722/1722 [00:00<00:00, 32556.93it/s]"
     ]
    },
    {
     "name": "stdout",
     "output_type": "stream",
     "text": [
      "removing singe words that appear in bigram tokens...\n"
     ]
    },
    {
     "name": "stderr",
     "output_type": "stream",
     "text": [
      "\n"
     ]
    },
    {
     "data": {
      "text/plain": [
       "[['eda54116-f2c9aeaa-6a9bd0ef-079424d1-e95864c4',\n",
       "  'mediastinal silhouettes',\n",
       "  'interstitial opacities',\n",
       "  'perihilar interstitial',\n",
       "  'pulmonary edema',\n",
       "  'pneumothorax',\n",
       "  'bilaterally',\n",
       "  'prosthesis',\n",
       "  'deformity',\n",
       "  'pacemaker',\n",
       "  'ventricle',\n",
       "  'coumadin',\n",
       "  'cerclage',\n",
       "  'effusion',\n",
       "  'humeral',\n",
       "  'imaged',\n",
       "  'pacer',\n",
       "  'afib',\n",
       "  'htn'],\n",
       " ['47ff5601-b7a20058-4fa33624-7acf1c56-f464a24a',\n",
       "  'interstitial abnormality',\n",
       "  'pleural effusion',\n",
       "  'pulmonary edema',\n",
       "  'cardiopulmonary',\n",
       "  'arthroplasties',\n",
       "  'hiatal hernia',\n",
       "  'cardiomegaly',\n",
       "  'mediastinal',\n",
       "  'mediastinum',\n",
       "  'deformities',\n",
       "  'prostheses',\n",
       "  'vertebral',\n",
       "  'hernia',\n",
       "  'aorta']]"
      ]
     },
     "execution_count": 101,
     "metadata": {},
     "output_type": "execute_result"
    }
   ],
   "source": [
    "# Replacing first or second common word with '' if bigram contains common_words\n",
    "print('replacing first or second common word with \"\"...')\n",
    "new_words = []\n",
    "for j in tqdm(file_bigrams):\n",
    "    newWords = []\n",
    "    for i in range(len(j)):\n",
    "        x = j[i].split(' ')\n",
    "        if x[0] in ((common_words)[:26000]+stopwords): \n",
    "            x[0] = ''\n",
    "        try:\n",
    "            if x[1] in ((common_words)[:26000]+stopwords): \n",
    "                x[1] = ''\n",
    "        except:\n",
    "            None\n",
    "        if len(' '.join(x))>1:\n",
    "            newWords.append(' '.join(x).strip())\n",
    "    new_words.append(list(set(newWords)))\n",
    "\n",
    "# Removing single tokens contained in a bigram\n",
    "print('removing singe words that appear in bigram tokens...')\n",
    "# Removing single words that appear in bigram tokens\n",
    "for j in tqdm(new_words):\n",
    "    for x in j:\n",
    "        for y in j:\n",
    "            if len(x.split(' '))<2 and len(y.split(' '))>1 and (x in y):\n",
    "                try:\n",
    "                    j.remove(x)\n",
    "                except:\n",
    "                    None\n",
    "    j.sort(key=len, reverse=True)\n",
    "\n",
    "(new_words[:2])"
   ]
  },
  {
   "cell_type": "code",
   "execution_count": 102,
   "metadata": {},
   "outputs": [
    {
     "name": "stderr",
     "output_type": "stream",
     "text": [
      "100%|██████████| 1722/1722 [00:00<00:00, 37215.47it/s]"
     ]
    },
    {
     "name": "stdout",
     "output_type": "stream",
     "text": [
      "removing singe words that appear in bigram tokens...\n"
     ]
    },
    {
     "name": "stderr",
     "output_type": "stream",
     "text": [
      "\n"
     ]
    },
    {
     "data": {
      "text/plain": [
       "[['eda54116-f2c9aeaa-6a9bd0ef-079424d1-e95864c4',\n",
       "  'mediastinal silhouettes',\n",
       "  'interstitial opacities',\n",
       "  'perihilar interstitial',\n",
       "  'pulmonary edema',\n",
       "  'pneumothorax',\n",
       "  'bilaterally',\n",
       "  'prosthesis',\n",
       "  'deformity',\n",
       "  'pacemaker',\n",
       "  'ventricle',\n",
       "  'coumadin',\n",
       "  'cerclage',\n",
       "  'effusion',\n",
       "  'humeral',\n",
       "  'imaged',\n",
       "  'pacer',\n",
       "  'afib',\n",
       "  'htn'],\n",
       " ['47ff5601-b7a20058-4fa33624-7acf1c56-f464a24a',\n",
       "  'interstitial abnormality',\n",
       "  'pleural effusion',\n",
       "  'pulmonary edema',\n",
       "  'cardiopulmonary',\n",
       "  'arthroplasties',\n",
       "  'hiatal hernia',\n",
       "  'cardiomegaly',\n",
       "  'mediastinal',\n",
       "  'mediastinum',\n",
       "  'deformities',\n",
       "  'prostheses',\n",
       "  'vertebral',\n",
       "  'aorta']]"
      ]
     },
     "execution_count": 102,
     "metadata": {},
     "output_type": "execute_result"
    }
   ],
   "source": [
    "print('removing singe words that appear in bigram tokens...')\n",
    "# Removing single words that appear in bigram tokens\n",
    "for j in tqdm(new_words):\n",
    "    for x in j:\n",
    "        for y in j:\n",
    "            if len(x.split(' '))<2 and len(y.split(' '))>1 and (x in y):\n",
    "                try:\n",
    "                    j.remove(x)\n",
    "                except:\n",
    "                    None\n",
    "    j.sort(key=len, reverse=True)\n",
    "\n",
    "(new_words[:2])"
   ]
  },
  {
   "cell_type": "code",
   "execution_count": 103,
   "metadata": {},
   "outputs": [
    {
     "name": "stdout",
     "output_type": "stream",
     "text": [
      "Running on the GPU\n"
     ]
    }
   ],
   "source": [
    "# Switching to CUDA GPU for faster processing and running our model trainings\n",
    "if torch.cuda.is_available():\n",
    "    device = torch.device('cuda:0')\n",
    "    print('Running on the GPU')\n",
    "else:\n",
    "    device = torch.device('cpu')\n",
    "    print('Running on the CPU')"
   ]
  },
  {
   "cell_type": "code",
   "execution_count": 105,
   "metadata": {},
   "outputs": [
    {
     "name": "stdout",
     "output_type": "stream",
     "text": [
      "1991 ['aaaalat', 'abd', 'ablation', 'abnormalites', 'abnormality']\n"
     ]
    }
   ],
   "source": [
    "# Removing unique Ids and tokens with special charecters from column list for the dataframe\n",
    "column = []\n",
    "for i in new_words:\n",
    "    for j in list(set(i)):\n",
    "        if ('?' not in j) and ('-' not in j) and ('!' not in j):\n",
    "            column.append(j)\n",
    "\n",
    "# Removing duplicates\n",
    "column = (list(set(column)))\n",
    "column.sort()\n",
    "print(len(column), column[:5])"
   ]
  },
  {
   "cell_type": "code",
   "execution_count": 107,
   "metadata": {},
   "outputs": [
    {
     "name": "stdout",
     "output_type": "stream",
     "text": [
      "[['eda54116-f2c9aeaa-6a9bd0ef-079424d1-e95864c4', 0, 0, 0, 0, 0, 0, 0, 0, 0, 0, 0, 0, 0, 0, 0, 0, 0, 0, 0, 0, 0, 0, 0, 0, 0, 0, 0, 0, 0, 0, 0, 0, 0, 0, 1, 0, 0, 0, 0, 0, 0, 0, 0, 0, 0, 0, 0, 0, 0, 0, 0, 0, 0, 0, 0, 0, 0, 0, 0, 0, 0, 0, 0, 0, 0, 0, 0, 0, 0, 0, 0, 0, 0, 0, 0, 0, 0, 0, 0, 0, 0, 0, 0, 0, 0, 0, 0, 0, 0, 0, 0, 0, 0, 0, 0, 0, 0, 0, 0, 0, 0, 0, 0, 0, 0, 0, 0, 0, 0, 0, 0, 0, 0, 0, 0, 0, 0, 0, 0, 0, 0, 0, 0, 0, 0, 0, 0, 0, 0, 0, 0, 0, 0, 0, 0, 0, 0, 0, 0, 0, 0, 0, 0, 0, 0, 0, 0, 0, 0, 0, 0, 0, 0, 0, 0, 0, 0, 0, 0, 0, 0, 0, 0, 0, 0, 0, 0, 0, 0, 0, 0, 0, 0, 0, 0, 0, 0, 0, 0, 0, 0, 0, 0, 0, 0, 0, 0, 0, 0, 0, 0, 0, 0, 0, 0, 0, 0, 0, 0, 0, 0, 0, 0, 0, 0, 1, 0, 0, 0, 0, 0, 0, 0, 0, 0, 0, 0, 0, 0, 0, 0, 0, 0, 0, 0, 0, 0, 0, 0, 0, 0, 0, 0, 0, 0, 0, 0, 0, 0, 0, 0, 0, 0, 0, 0, 0, 0, 0, 0, 0, 0, 0, 0, 0, 0, 0, 0, 0, 0, 0, 0, 0, 0, 0, 0, 0, 0, 0, 0, 0, 0, 0, 0, 0, 0, 0, 0, 0, 0, 0, 0, 0, 0, 0, 0, 0, 0, 0, 0, 0, 0, 0, 0, 0, 0, 0, 0, 0, 0, 0, 0, 0, 0, 0, 0, 0, 0, 0, 0, 0, 0, 0, 0, 0, 0, 0, 0, 0, 0, 0, 0, 0, 0, 0, 0, 0, 0, 0, 0, 0, 0, 0, 0, 0, 0, 0, 1, 0, 0, 0, 0, 0, 0, 0, 0, 0, 0, 0, 0, 0, 0, 0, 0, 0, 0, 0, 0, 0, 0, 0, 0, 0, 0, 0, 0, 0, 0, 0, 0, 0, 0, 0, 0, 0, 0, 0, 0, 0, 0, 0, 0, 0, 0, 0, 0, 0, 0, 0, 0, 0, 0, 0, 0, 0, 0, 0, 0, 0, 0, 0, 0, 0, 0, 0, 0, 0, 0, 0, 0, 0, 0, 0, 0, 0, 0, 0, 0, 0, 0, 0, 0, 0, 0, 0, 1, 0, 0, 0, 0, 0, 0, 0, 0, 0, 0, 0, 0, 0, 0, 0, 0, 0, 0, 0, 0, 0, 0, 0, 0, 0, 0, 0, 0, 0, 0, 0, 0, 0, 0, 0, 0, 0, 0, 0, 0, 0, 0, 0, 0, 1, 0, 0, 0, 0, 0, 0, 0, 0, 0, 0, 0, 0, 0, 0, 0, 0, 0, 0, 0, 0, 0, 0, 0, 0, 0, 0, 0, 0, 0, 0, 0, 0, 0, 0, 0, 0, 0, 0, 0, 0, 0, 0, 0, 0, 0, 0, 0, 0, 0, 0, 0, 0, 0, 0, 0, 0, 0, 0, 0, 0, 0, 0, 0, 0, 0, 0, 0, 0, 0, 0, 0, 0, 0, 0, 0, 0, 0, 0, 0, 0, 0, 0, 0, 0, 0, 0, 0, 0, 0, 0, 0, 0, 0, 0, 0, 0, 0, 0, 0, 0, 0, 1, 0, 0, 0, 0, 0, 0, 0, 0, 0, 0, 0, 0, 0, 0, 0, 0, 0, 0, 0, 0, 0, 0, 0, 0, 0, 0, 0, 0, 0, 0, 0, 0, 0, 0, 0, 0, 0, 0, 0, 0, 0, 0, 0, 0, 0, 0, 0, 0, 0, 0, 0, 0, 0, 0, 0, 0, 0, 0, 0, 0, 0, 0, 0, 0, 0, 0, 0, 0, 0, 0, 0, 0, 0, 0, 0, 0, 0, 0, 0, 0, 0, 0, 0, 0, 0, 0, 0, 0, 0, 0, 0, 0, 0, 0, 0, 0, 0, 0, 0, 0, 0, 0, 0, 0, 0, 0, 0, 0, 0, 0, 0, 0, 0, 0, 0, 0, 0, 0, 0, 0, 0, 0, 0, 0, 0, 0, 0, 0, 0, 0, 0, 0, 0, 0, 0, 0, 0, 0, 0, 0, 0, 0, 0, 0, 0, 0, 0, 0, 0, 0, 0, 0, 0, 0, 0, 0, 0, 0, 0, 0, 0, 0, 0, 0, 0, 0, 0, 0, 0, 0, 0, 0, 0, 0, 0, 0, 0, 0, 0, 0, 0, 0, 0, 0, 0, 0, 0, 0, 0, 0, 0, 0, 0, 0, 0, 0, 0, 0, 0, 0, 0, 0, 0, 0, 0, 0, 0, 0, 0, 0, 0, 0, 0, 0, 0, 0, 0, 0, 0, 0, 0, 0, 0, 0, 0, 0, 0, 0, 0, 0, 0, 0, 0, 0, 0, 0, 0, 0, 0, 0, 0, 0, 0, 0, 0, 0, 0, 0, 0, 0, 0, 0, 0, 0, 0, 0, 0, 0, 0, 0, 0, 0, 0, 0, 0, 0, 0, 0, 0, 1, 0, 0, 1, 0, 0, 0, 0, 0, 0, 0, 0, 0, 0, 0, 0, 0, 0, 0, 0, 0, 0, 0, 0, 0, 0, 0, 0, 0, 0, 0, 0, 0, 0, 0, 0, 0, 0, 0, 0, 0, 0, 0, 0, 0, 0, 0, 0, 0, 0, 0, 0, 1, 0, 0, 0, 0, 0, 0, 0, 0, 0, 0, 0, 0, 0, 0, 0, 0, 0, 0, 0, 0, 0, 0, 0, 0, 0, 0, 0, 0, 0, 0, 0, 0, 0, 0, 0, 0, 0, 0, 0, 0, 0, 0, 0, 0, 0, 0, 0, 0, 0, 0, 0, 0, 0, 0, 0, 0, 0, 0, 1, 0, 0, 0, 0, 0, 0, 0, 0, 0, 0, 0, 0, 0, 0, 0, 0, 0, 0, 0, 0, 0, 0, 0, 0, 0, 0, 0, 0, 0, 0, 0, 0, 0, 0, 0, 0, 0, 0, 0, 0, 0, 0, 0, 0, 0, 0, 0, 0, 0, 0, 0, 0, 0, 0, 0, 0, 0, 0, 0, 0, 0, 0, 0, 0, 0, 0, 0, 0, 0, 0, 0, 0, 0, 0, 0, 0, 0, 0, 0, 0, 0, 0, 0, 0, 0, 0, 0, 0, 0, 0, 0, 0, 0, 0, 0, 0, 0, 0, 0, 0, 0, 0, 0, 0, 0, 0, 0, 0, 0, 0, 0, 0, 0, 0, 0, 0, 0, 0, 0, 0, 0, 0, 0, 0, 0, 0, 0, 0, 0, 0, 0, 0, 0, 0, 0, 0, 0, 0, 0, 0, 0, 1, 0, 0, 0, 0, 0, 0, 0, 0, 0, 0, 0, 0, 0, 0, 0, 0, 0, 0, 0, 0, 0, 0, 0, 0, 0, 0, 0, 0, 0, 0, 0, 0, 0, 0, 0, 0, 0, 0, 0, 0, 0, 0, 0, 0, 0, 0, 0, 0, 0, 0, 0, 0, 0, 0, 0, 0, 0, 0, 0, 0, 0, 0, 0, 0, 0, 0, 0, 0, 0, 0, 0, 0, 0, 0, 0, 0, 0, 0, 0, 0, 0, 0, 0, 0, 0, 0, 0, 0, 0, 0, 0, 0, 0, 0, 0, 0, 0, 0, 0, 0, 0, 0, 0, 0, 0, 0, 0, 0, 0, 0, 0, 0, 0, 0, 0, 0, 0, 0, 0, 0, 0, 0, 0, 0, 0, 0, 0, 0, 0, 0, 0, 0, 0, 0, 0, 0, 0, 0, 0, 0, 0, 0, 0, 0, 0, 0, 0, 0, 0, 0, 0, 0, 0, 0, 0, 0, 0, 0, 0, 0, 0, 0, 0, 0, 0, 0, 0, 0, 0, 0, 0, 1, 0, 0, 1, 0, 0, 0, 0, 0, 0, 0, 0, 0, 0, 0, 0, 0, 0, 0, 0, 0, 0, 0, 0, 0, 0, 0, 0, 0, 0, 0, 0, 0, 0, 0, 0, 0, 0, 0, 0, 0, 0, 0, 0, 0, 0, 0, 0, 0, 0, 0, 0, 0, 0, 0, 0, 0, 0, 0, 0, 0, 0, 0, 0, 0, 0, 0, 0, 0, 0, 0, 0, 0, 1, 0, 0, 0, 0, 0, 0, 0, 0, 0, 0, 0, 0, 0, 0, 0, 0, 0, 0, 0, 0, 0, 0, 0, 0, 0, 0, 0, 0, 0, 0, 0, 0, 0, 0, 0, 0, 0, 0, 0, 0, 0, 0, 0, 0, 0, 0, 0, 0, 0, 0, 0, 0, 0, 0, 0, 0, 0, 0, 0, 0, 0, 0, 0, 0, 0, 0, 0, 0, 0, 0, 0, 0, 0, 1, 0, 0, 0, 0, 0, 0, 0, 0, 0, 0, 0, 0, 0, 0, 0, 0, 0, 0, 0, 0, 0, 0, 0, 0, 0, 0, 0, 0, 0, 0, 0, 0, 0, 0, 0, 0, 0, 0, 0, 0, 0, 0, 0, 0, 0, 0, 0, 0, 0, 0, 0, 0, 0, 0, 0, 0, 0, 0, 0, 0, 0, 0, 0, 0, 0, 0, 0, 0, 0, 0, 0, 0, 0, 1, 0, 0, 0, 0, 0, 0, 0, 0, 0, 0, 0, 0, 0, 0, 0, 0, 0, 0, 0, 0, 0, 0, 0, 0, 0, 1, 0, 0, 0, 0, 0, 0, 0, 0, 0, 0, 0, 0, 0, 0, 0, 0, 0, 0, 0, 0, 0, 0, 0, 0, 0, 0, 0, 0, 0, 0, 0, 0, 0, 0, 0, 0, 0, 0, 0, 0, 0, 0, 0, 0, 0, 0, 0, 0, 0, 0, 0, 0, 0, 0, 0, 0, 0, 0, 0, 0, 0, 0, 0, 0, 0, 0, 0, 0, 0, 0, 0, 0, 0, 0, 0, 0, 0, 0, 0, 0, 0, 0, 0, 0, 0, 0, 0, 0, 0, 0, 0, 0, 0, 0, 0, 0, 0, 0, 0, 0, 0, 0, 0, 0, 0, 0, 0, 0, 0, 0, 0, 0, 0, 0, 0, 0, 0, 0, 0, 0, 0, 0, 0, 0, 0, 0, 0, 0, 0, 0, 0, 0, 0, 0, 0, 0, 0, 0, 0, 0, 0, 0, 0, 0, 0, 0, 0, 0, 0, 0, 0, 0, 0, 0, 0, 0, 0, 0, 0, 0, 0, 0, 0, 0, 0, 0, 0, 0, 0, 0, 0, 0, 0, 0, 0, 0, 0, 0, 0, 0, 0, 0, 0, 0, 0, 0, 0, 0, 0, 0, 0, 0, 0, 0, 0, 0, 0, 0, 0, 0, 0, 0, 0, 0, 0, 0, 0, 0, 0, 0, 0, 0, 0, 0, 0, 0, 0, 0, 0, 0, 0, 0, 0, 0, 0, 0, 0, 0, 0, 0, 0, 0, 0, 0, 0, 0, 0, 0, 0, 0, 0, 0, 0, 0, 0, 0, 0, 0, 0, 0, 0, 0, 0, 0, 0, 0, 0, 0, 0, 0, 0, 0, 0, 0, 0, 0, 0, 0, 0, 0, 0, 0, 0, 0, 0, 0, 0, 0, 0, 0, 0, 0, 0, 0, 0, 0, 0, 0, 0, 0, 0, 0, 0, 0, 0, 0, 0, 0, 0, 0, 0, 0, 0, 0, 0, 0, 0, 0, 0, 0, 0, 0, 0, 0, 0, 0, 0, 0, 0, 0, 0, 0, 0, 0, 0, 0, 0, 0, 0, 0, 0, 0, 0, 0, 0, 0, 0, 0, 0, 0, 0, 0, 0, 0, 0, 0, 0, 0, 0, 0, 0, 0, 0, 0, 0, 0, 0, 0, 0, 0, 0, 0, 0, 0, 0, 0, 0, 0, 0, 0, 0, 0, 0, 0, 0, 0, 0, 0, 0, 0, 0, 0, 0, 0, 0, 0, 0, 0, 0, 0, 0, 0, 0, 0, 0, 0, 0, 0, 0, 0, 0, 0, 0, 0, 0, 0, 0, 0, 0, 0, 0, 1, 0, 0, 0, 0, 0, 0, 0, 0, 0, 0, 0, 0, 0, 0, 0, 0, 0, 0, 0, 0, 0, 0, 0, 0, 0, 0, 0, 0, 0, 0, 0, 0, 0, 0, 0, 0, 0, 0, 0, 0, 0, 0, 0, 0, 0, 0, 0, 0, 0, 0, 0, 0, 0, 0, 0, 0, 0, 0, 0, 0, 0, 0, 0, 0, 0], ['47ff5601-b7a20058-4fa33624-7acf1c56-f464a24a', 0, 0, 0, 0, 0, 0, 0, 0, 0, 0, 0, 0, 0, 0, 0, 0, 0, 0, 0, 0, 0, 0, 0, 0, 0, 0, 0, 0, 0, 0, 0, 0, 0, 0, 0, 0, 0, 0, 0, 0, 0, 0, 0, 0, 0, 0, 0, 0, 0, 0, 0, 0, 0, 0, 0, 0, 0, 0, 0, 0, 0, 0, 0, 0, 0, 0, 0, 0, 0, 0, 0, 0, 0, 0, 1, 0, 0, 0, 0, 0, 0, 0, 0, 0, 0, 0, 0, 0, 0, 0, 0, 0, 0, 0, 0, 0, 0, 0, 0, 0, 0, 0, 0, 0, 0, 1, 0, 0, 0, 0, 0, 0, 0, 0, 0, 0, 0, 0, 0, 0, 0, 0, 0, 0, 0, 0, 0, 0, 0, 0, 0, 0, 0, 0, 0, 0, 0, 0, 0, 0, 0, 0, 0, 0, 0, 0, 0, 0, 0, 0, 0, 0, 0, 0, 0, 0, 0, 0, 0, 0, 0, 0, 0, 0, 0, 0, 0, 0, 0, 0, 0, 0, 0, 0, 0, 0, 0, 0, 0, 0, 0, 0, 0, 0, 0, 0, 0, 0, 0, 0, 0, 0, 0, 0, 0, 0, 0, 0, 0, 0, 0, 0, 0, 0, 0, 0, 0, 0, 0, 0, 0, 0, 0, 0, 0, 0, 0, 0, 0, 0, 0, 0, 0, 0, 0, 0, 0, 0, 0, 0, 0, 0, 0, 0, 0, 0, 0, 0, 0, 0, 0, 0, 0, 0, 0, 0, 0, 0, 0, 0, 0, 0, 0, 0, 0, 0, 0, 0, 0, 0, 0, 0, 0, 0, 0, 0, 0, 0, 0, 0, 0, 0, 0, 0, 0, 0, 0, 0, 0, 0, 0, 0, 0, 0, 0, 0, 0, 0, 0, 0, 0, 0, 0, 0, 0, 0, 1, 0, 0, 0, 0, 0, 0, 0, 0, 0, 0, 0, 0, 1, 0, 0, 0, 0, 0, 0, 0, 0, 0, 0, 0, 0, 0, 0, 0, 0, 0, 0, 0, 0, 0, 0, 0, 0, 0, 0, 0, 0, 0, 0, 0, 0, 0, 0, 0, 0, 0, 0, 0, 0, 0, 0, 0, 0, 0, 0, 0, 0, 0, 0, 0, 0, 0, 0, 0, 0, 0, 0, 0, 0, 0, 0, 0, 0, 0, 0, 0, 0, 0, 0, 0, 0, 0, 0, 0, 0, 0, 0, 0, 0, 0, 0, 0, 0, 0, 0, 0, 0, 0, 0, 0, 0, 0, 0, 0, 0, 0, 0, 0, 0, 0, 0, 0, 0, 0, 0, 0, 0, 0, 0, 0, 0, 0, 0, 0, 0, 0, 0, 0, 0, 0, 0, 0, 0, 0, 0, 0, 0, 0, 0, 0, 0, 0, 0, 0, 0, 0, 0, 0, 0, 0, 0, 0, 0, 0, 0, 0, 0, 0, 0, 0, 0, 0, 0, 0, 0, 0, 0, 1, 0, 0, 0, 0, 0, 0, 0, 0, 0, 0, 0, 0, 0, 0, 0, 0, 0, 0, 0, 0, 0, 0, 0, 0, 0, 0, 0, 0, 0, 0, 0, 0, 0, 0, 0, 0, 0, 0, 0, 0, 0, 0, 0, 0, 0, 0, 0, 0, 0, 0, 0, 0, 0, 0, 0, 0, 0, 0, 0, 0, 0, 0, 0, 0, 0, 0, 0, 0, 0, 0, 0, 0, 0, 0, 0, 0, 0, 0, 0, 0, 0, 0, 0, 0, 0, 0, 0, 0, 0, 0, 0, 0, 0, 0, 0, 0, 0, 0, 0, 0, 0, 0, 0, 0, 0, 0, 0, 0, 0, 0, 0, 0, 0, 0, 0, 0, 0, 0, 0, 0, 0, 0, 0, 0, 0, 0, 0, 0, 0, 0, 0, 0, 0, 0, 0, 0, 0, 0, 0, 0, 0, 0, 0, 0, 0, 0, 0, 0, 0, 0, 0, 0, 0, 0, 0, 0, 0, 0, 0, 0, 0, 0, 0, 0, 0, 0, 0, 0, 0, 0, 0, 0, 0, 0, 0, 0, 0, 0, 0, 0, 0, 0, 0, 0, 0, 0, 0, 0, 0, 0, 0, 0, 0, 0, 0, 0, 0, 0, 0, 0, 0, 0, 0, 0, 0, 0, 0, 0, 0, 0, 0, 0, 0, 0, 0, 0, 0, 0, 0, 0, 0, 0, 0, 0, 0, 0, 0, 0, 0, 0, 0, 0, 0, 0, 0, 0, 0, 0, 0, 0, 0, 0, 0, 0, 0, 0, 0, 0, 0, 0, 0, 0, 0, 0, 0, 0, 0, 0, 0, 0, 0, 0, 0, 0, 0, 0, 0, 0, 0, 0, 0, 0, 0, 0, 0, 0, 0, 0, 0, 0, 0, 0, 0, 0, 0, 0, 0, 0, 0, 0, 0, 0, 0, 0, 0, 0, 0, 0, 0, 0, 0, 0, 0, 0, 0, 0, 0, 0, 0, 0, 0, 0, 0, 0, 0, 0, 0, 0, 0, 0, 0, 0, 0, 0, 0, 0, 0, 0, 0, 0, 0, 0, 0, 0, 0, 0, 0, 0, 0, 0, 0, 0, 0, 0, 0, 0, 0, 0, 0, 0, 0, 0, 0, 1, 0, 0, 0, 0, 0, 0, 0, 0, 0, 0, 0, 0, 0, 0, 0, 0, 0, 0, 0, 0, 0, 0, 0, 0, 0, 0, 0, 0, 0, 0, 0, 0, 0, 0, 0, 0, 0, 0, 0, 0, 0, 0, 0, 0, 0, 0, 0, 0, 0, 0, 0, 0, 0, 0, 0, 0, 0, 0, 0, 0, 0, 0, 0, 0, 0, 0, 0, 0, 0, 0, 0, 0, 0, 0, 0, 0, 0, 0, 0, 0, 0, 0, 0, 0, 0, 0, 0, 0, 0, 0, 0, 0, 0, 0, 0, 0, 0, 0, 0, 0, 0, 0, 0, 0, 0, 0, 0, 0, 0, 0, 0, 0, 0, 0, 0, 0, 0, 0, 0, 0, 0, 0, 0, 0, 0, 0, 0, 1, 0, 0, 0, 0, 0, 0, 0, 0, 0, 0, 0, 0, 0, 0, 0, 0, 0, 0, 0, 0, 0, 0, 0, 0, 0, 0, 0, 0, 0, 0, 0, 0, 0, 0, 0, 0, 0, 0, 0, 0, 0, 0, 0, 0, 0, 0, 0, 0, 0, 0, 0, 0, 0, 0, 0, 0, 0, 0, 0, 0, 0, 0, 0, 0, 0, 0, 0, 0, 0, 0, 0, 0, 0, 0, 0, 0, 0, 0, 0, 0, 0, 0, 0, 0, 0, 0, 0, 0, 0, 0, 0, 0, 0, 0, 0, 0, 0, 0, 0, 0, 0, 0, 0, 0, 0, 0, 0, 0, 0, 0, 0, 0, 0, 0, 0, 0, 0, 0, 0, 0, 0, 0, 0, 0, 0, 0, 0, 0, 0, 0, 0, 0, 0, 0, 1, 0, 0, 0, 0, 0, 0, 0, 0, 0, 0, 0, 1, 0, 0, 0, 0, 0, 0, 0, 0, 0, 0, 0, 0, 0, 0, 0, 0, 0, 0, 0, 0, 0, 0, 0, 0, 0, 0, 0, 0, 0, 0, 0, 0, 0, 0, 0, 0, 0, 0, 0, 0, 0, 0, 0, 0, 0, 0, 0, 0, 0, 0, 0, 0, 0, 0, 0, 0, 0, 0, 0, 0, 0, 0, 0, 0, 0, 0, 0, 0, 0, 0, 0, 0, 0, 0, 0, 0, 0, 0, 0, 0, 0, 0, 0, 0, 0, 0, 0, 0, 0, 0, 0, 0, 0, 0, 0, 0, 0, 0, 0, 0, 0, 0, 0, 0, 0, 0, 0, 0, 0, 0, 0, 0, 0, 0, 0, 0, 0, 0, 0, 0, 0, 0, 0, 0, 0, 0, 0, 0, 0, 0, 0, 0, 0, 0, 0, 0, 0, 0, 0, 0, 0, 0, 0, 0, 0, 0, 0, 0, 0, 0, 0, 0, 0, 0, 0, 0, 0, 0, 0, 0, 0, 0, 0, 0, 0, 0, 0, 0, 0, 0, 0, 0, 0, 0, 0, 0, 0, 0, 0, 0, 0, 0, 0, 0, 0, 0, 0, 0, 0, 0, 0, 0, 0, 0, 0, 0, 0, 0, 0, 0, 0, 0, 0, 0, 0, 0, 0, 0, 0, 0, 0, 0, 0, 0, 0, 0, 0, 0, 0, 0, 0, 0, 0, 0, 0, 0, 0, 0, 0, 0, 0, 0, 0, 0, 0, 0, 0, 0, 0, 0, 0, 0, 0, 0, 0, 0, 0, 0, 0, 0, 0, 0, 0, 0, 0, 0, 0, 0, 0, 0, 0, 0, 0, 0, 0, 0, 0, 0, 0, 0, 0, 0, 0, 0, 0, 0, 1, 0, 0, 0, 0, 0, 0, 0, 0, 0, 0, 0, 0, 0, 0, 0, 0, 0, 0, 0, 0, 0, 0, 0, 0, 0, 0, 0, 0, 0, 0, 0, 0, 0, 0, 0, 0, 0, 0, 0, 0, 0, 0, 0, 0, 0, 0, 0, 0, 0, 0, 0, 0, 0, 0, 0, 0, 0, 0, 0, 0, 0, 0, 0, 0, 0, 0, 0, 0, 0, 0, 0, 0, 0, 0, 0, 0, 0, 0, 0, 0, 0, 0, 0, 0, 0, 0, 0, 0, 0, 0, 0, 0, 0, 0, 0, 0, 0, 0, 0, 0, 0, 0, 0, 0, 0, 0, 0, 0, 0, 0, 0, 1, 0, 0, 0, 0, 0, 0, 0, 0, 0, 0, 0, 0, 0, 0, 0, 0, 0, 0, 0, 0, 0, 0, 0, 0, 0, 0, 1, 0, 0, 0, 0, 0, 0, 0, 0, 0, 0, 0, 0, 0, 0, 0, 0, 0, 0, 0, 0, 0, 0, 0, 0, 0, 0, 0, 0, 0, 0, 0, 0, 0, 0, 0, 0, 0, 0, 0, 0, 0, 0, 0, 0, 0, 0, 0, 0, 0, 0, 0, 0, 0, 0, 0, 0, 0, 0, 0, 0, 0, 0, 0, 0, 0, 0, 0, 0, 0, 0, 0, 0, 0, 0, 0, 0, 0, 0, 0, 0, 0, 0, 0, 0, 0, 0, 0, 0, 0, 0, 0, 0, 0, 0, 0, 0, 0, 0, 0, 0, 0, 0, 0, 0, 0, 0, 0, 0, 0, 0, 0, 0, 0, 0, 0, 0, 0, 0, 0, 0, 0, 0, 0, 0, 0, 0, 0, 0, 0, 0, 0, 0, 0, 0, 0, 0, 0, 0, 0, 0, 0, 0, 0, 0, 0, 0, 0, 0, 0, 0, 0, 0, 0, 0, 0, 0, 0, 0, 0, 0, 0, 0, 0, 0, 0, 0, 0, 0, 0, 0, 0, 0, 0, 0, 0, 0, 0, 0, 0, 0, 0, 0, 0, 0, 0, 0, 0, 0, 0, 0, 0, 0, 0, 0, 0, 0, 0, 0, 0, 0, 0, 0, 0, 0, 0, 0, 0, 0, 0, 0, 0, 0, 0, 0, 0, 0, 0, 0, 0, 0, 0, 0, 0, 0, 0, 0, 0, 0, 0, 0, 0, 0, 0, 0, 0, 0, 0, 0, 0, 0, 0, 0, 0, 0, 0, 0, 0, 0, 0, 0, 0, 0, 0, 0, 0, 0, 0, 0, 0, 0, 0, 0, 0, 0, 0, 0, 0, 0, 0, 0, 0, 0, 0, 0, 0, 0, 0, 0, 0, 0, 0, 0, 0, 0, 0, 0, 0, 0, 0, 0, 0, 0, 0, 0, 0, 0, 0, 0, 0, 0, 0, 0, 0, 0, 0, 0, 0, 0, 0, 0, 0, 0, 0, 0, 0, 0, 0, 0, 0, 0, 0, 0, 0, 0, 0, 0, 0, 0, 0, 0, 0, 0, 0, 0, 0, 0, 0, 0, 0, 0, 0, 0, 0, 0, 0, 0, 0, 0, 0, 0, 0, 0, 0, 0, 0, 0, 0, 0, 0, 0, 0, 0, 0, 0, 0, 0, 0, 0, 0, 0, 0, 0, 0, 0, 0, 0, 0, 0, 0, 0, 0, 0, 0, 0, 0, 0, 0, 0, 0, 0, 0, 0, 0, 0, 0, 0, 0, 0, 0, 0, 0, 0, 0, 0, 0, 0, 0, 0, 0, 0, 0, 0, 0, 0, 0, 0, 0, 0, 0, 1, 0, 0, 0, 0, 0, 0, 0, 0, 0, 0, 0, 0, 0, 0, 0, 0, 0, 0, 0, 0, 0, 0, 0, 0, 0, 0, 0, 0, 0, 0, 0, 0, 0, 0, 0, 0, 0, 0, 0, 0, 0, 0, 0, 0, 0, 0, 0, 0, 0, 0, 0, 0, 0, 0, 0, 0, 0]]\n"
     ]
    }
   ],
   "source": [
    "rows = []\n",
    "finalWords = new_words\n",
    "# Creating rows where the ID containing the keyword are set to True\n",
    "for idx, lst in enumerate(finalWords):\n",
    "    listofzeros = [0] * len(column)\n",
    "#     print(lst)\n",
    "    for i in lst:\n",
    "        if i in column:\n",
    "            listofzeros[column.index(i)] = 1\n",
    "    rows.append([lst[0]] + listofzeros)\n",
    "\n",
    "print(rows[:2])"
   ]
  },
  {
   "cell_type": "code",
   "execution_count": 108,
   "metadata": {},
   "outputs": [],
   "source": [
    "# Creating the dataframe and storing all the keywords for the ID in 'Genre' column\n",
    "columns_names = ['Id'] + column #tokens = new_finawords\n",
    "data = pd.DataFrame(rows, columns = columns_names)\n",
    "finalWords = [i[1:] for i in finalWords]\n",
    "# print(finalWords)\n",
    "tokens = pd.DataFrame({'Genre': finalWords})\n",
    "data = data.join(tokens)\n",
    "data = data[['Id', 'Genre'] + [c for c in data if c not in ['Id', 'Genre']]]"
   ]
  },
  {
   "cell_type": "code",
   "execution_count": 109,
   "metadata": {
    "scrolled": true
   },
   "outputs": [
    {
     "data": {
      "text/html": [
       "<div>\n",
       "<style scoped>\n",
       "    .dataframe tbody tr th:only-of-type {\n",
       "        vertical-align: middle;\n",
       "    }\n",
       "\n",
       "    .dataframe tbody tr th {\n",
       "        vertical-align: top;\n",
       "    }\n",
       "\n",
       "    .dataframe thead th {\n",
       "        text-align: right;\n",
       "    }\n",
       "</style>\n",
       "<table border=\"1\" class=\"dataframe\">\n",
       "  <thead>\n",
       "    <tr style=\"text-align: right;\">\n",
       "      <th></th>\n",
       "      <th>Id</th>\n",
       "      <th>Genre</th>\n",
       "      <th>aaaalat</th>\n",
       "      <th>abd</th>\n",
       "      <th>ablation</th>\n",
       "      <th>abnormalites</th>\n",
       "      <th>abnormality</th>\n",
       "      <th>abnormality bronchovascular</th>\n",
       "      <th>abnormality coned</th>\n",
       "      <th>abnormality degenerative</th>\n",
       "      <th>...</th>\n",
       "      <th>worsening opacities</th>\n",
       "      <th>worsening pleural</th>\n",
       "      <th>worsening pna</th>\n",
       "      <th>worsening pneumothorax</th>\n",
       "      <th>worsening pulm</th>\n",
       "      <th>worsening pulmonary</th>\n",
       "      <th>worsening shortness</th>\n",
       "      <th>worsening sob</th>\n",
       "      <th>xarelto</th>\n",
       "      <th>xray</th>\n",
       "    </tr>\n",
       "  </thead>\n",
       "  <tbody>\n",
       "    <tr>\n",
       "      <th>618</th>\n",
       "      <td>001fac99-3694d0bf-97264e61-ad66aacc-e369f694</td>\n",
       "      <td>[pleural effusion]</td>\n",
       "      <td>0</td>\n",
       "      <td>0</td>\n",
       "      <td>0</td>\n",
       "      <td>0</td>\n",
       "      <td>0</td>\n",
       "      <td>0</td>\n",
       "      <td>0</td>\n",
       "      <td>0</td>\n",
       "      <td>...</td>\n",
       "      <td>0</td>\n",
       "      <td>0</td>\n",
       "      <td>0</td>\n",
       "      <td>0</td>\n",
       "      <td>0</td>\n",
       "      <td>0</td>\n",
       "      <td>0</td>\n",
       "      <td>0</td>\n",
       "      <td>0</td>\n",
       "      <td>0</td>\n",
       "    </tr>\n",
       "    <tr>\n",
       "      <th>1096</th>\n",
       "      <td>0081e530-6eda3d1b-7bc3edec-353d9de5-125a8845</td>\n",
       "      <td>[apical pneumothorax, cardiomediastinal, pleur...</td>\n",
       "      <td>0</td>\n",
       "      <td>0</td>\n",
       "      <td>0</td>\n",
       "      <td>0</td>\n",
       "      <td>0</td>\n",
       "      <td>0</td>\n",
       "      <td>0</td>\n",
       "      <td>0</td>\n",
       "      <td>...</td>\n",
       "      <td>0</td>\n",
       "      <td>0</td>\n",
       "      <td>0</td>\n",
       "      <td>0</td>\n",
       "      <td>0</td>\n",
       "      <td>0</td>\n",
       "      <td>0</td>\n",
       "      <td>0</td>\n",
       "      <td>0</td>\n",
       "      <td>0</td>\n",
       "    </tr>\n",
       "    <tr>\n",
       "      <th>1190</th>\n",
       "      <td>0097ea99-f0ab02d7-87a960e8-53063e3b-d33b6de2</td>\n",
       "      <td>[cardiopulmonary abnormality, cardiomediastina...</td>\n",
       "      <td>0</td>\n",
       "      <td>0</td>\n",
       "      <td>0</td>\n",
       "      <td>0</td>\n",
       "      <td>0</td>\n",
       "      <td>0</td>\n",
       "      <td>0</td>\n",
       "      <td>0</td>\n",
       "      <td>...</td>\n",
       "      <td>0</td>\n",
       "      <td>0</td>\n",
       "      <td>0</td>\n",
       "      <td>0</td>\n",
       "      <td>0</td>\n",
       "      <td>0</td>\n",
       "      <td>0</td>\n",
       "      <td>0</td>\n",
       "      <td>0</td>\n",
       "      <td>0</td>\n",
       "    </tr>\n",
       "    <tr>\n",
       "      <th>1510</th>\n",
       "      <td>00f0fe92-5e4d958c-4383973b-5799ed47-b882b7b3</td>\n",
       "      <td>[pulmonary vasculature, pneumothorax gaseous, ...</td>\n",
       "      <td>0</td>\n",
       "      <td>0</td>\n",
       "      <td>0</td>\n",
       "      <td>0</td>\n",
       "      <td>0</td>\n",
       "      <td>0</td>\n",
       "      <td>0</td>\n",
       "      <td>0</td>\n",
       "      <td>...</td>\n",
       "      <td>0</td>\n",
       "      <td>0</td>\n",
       "      <td>0</td>\n",
       "      <td>0</td>\n",
       "      <td>0</td>\n",
       "      <td>0</td>\n",
       "      <td>0</td>\n",
       "      <td>0</td>\n",
       "      <td>0</td>\n",
       "      <td>0</td>\n",
       "    </tr>\n",
       "    <tr>\n",
       "      <th>232</th>\n",
       "      <td>0111d952-0df9e69b-c81b0fab-ba72f157-b5ace4b8</td>\n",
       "      <td>[pneumothorax cardiomediastinal, pleural effus...</td>\n",
       "      <td>0</td>\n",
       "      <td>0</td>\n",
       "      <td>0</td>\n",
       "      <td>0</td>\n",
       "      <td>0</td>\n",
       "      <td>0</td>\n",
       "      <td>0</td>\n",
       "      <td>0</td>\n",
       "      <td>...</td>\n",
       "      <td>0</td>\n",
       "      <td>0</td>\n",
       "      <td>0</td>\n",
       "      <td>0</td>\n",
       "      <td>0</td>\n",
       "      <td>0</td>\n",
       "      <td>0</td>\n",
       "      <td>0</td>\n",
       "      <td>0</td>\n",
       "      <td>0</td>\n",
       "    </tr>\n",
       "    <tr>\n",
       "      <th>...</th>\n",
       "      <td>...</td>\n",
       "      <td>...</td>\n",
       "      <td>...</td>\n",
       "      <td>...</td>\n",
       "      <td>...</td>\n",
       "      <td>...</td>\n",
       "      <td>...</td>\n",
       "      <td>...</td>\n",
       "      <td>...</td>\n",
       "      <td>...</td>\n",
       "      <td>...</td>\n",
       "      <td>...</td>\n",
       "      <td>...</td>\n",
       "      <td>...</td>\n",
       "      <td>...</td>\n",
       "      <td>...</td>\n",
       "      <td>...</td>\n",
       "      <td>...</td>\n",
       "      <td>...</td>\n",
       "      <td>...</td>\n",
       "      <td>...</td>\n",
       "    </tr>\n",
       "    <tr>\n",
       "      <th>1447</th>\n",
       "      <td>ff1610a7-2efc14c3-9195187d-ccfaa8d7-02501e6d</td>\n",
       "      <td>[pleural effusion, atelectasis, edema]</td>\n",
       "      <td>0</td>\n",
       "      <td>0</td>\n",
       "      <td>0</td>\n",
       "      <td>0</td>\n",
       "      <td>0</td>\n",
       "      <td>0</td>\n",
       "      <td>0</td>\n",
       "      <td>0</td>\n",
       "      <td>...</td>\n",
       "      <td>0</td>\n",
       "      <td>0</td>\n",
       "      <td>0</td>\n",
       "      <td>0</td>\n",
       "      <td>0</td>\n",
       "      <td>0</td>\n",
       "      <td>0</td>\n",
       "      <td>0</td>\n",
       "      <td>0</td>\n",
       "      <td>0</td>\n",
       "    </tr>\n",
       "    <tr>\n",
       "      <th>1445</th>\n",
       "      <td>ff3686a3-b155f79c-ea3d4e94-46740aa8-a5528c95</td>\n",
       "      <td>[pleural effusions, retrocardiac, endotracheal...</td>\n",
       "      <td>0</td>\n",
       "      <td>0</td>\n",
       "      <td>0</td>\n",
       "      <td>0</td>\n",
       "      <td>0</td>\n",
       "      <td>0</td>\n",
       "      <td>0</td>\n",
       "      <td>0</td>\n",
       "      <td>...</td>\n",
       "      <td>0</td>\n",
       "      <td>0</td>\n",
       "      <td>0</td>\n",
       "      <td>0</td>\n",
       "      <td>0</td>\n",
       "      <td>0</td>\n",
       "      <td>0</td>\n",
       "      <td>0</td>\n",
       "      <td>0</td>\n",
       "      <td>0</td>\n",
       "    </tr>\n",
       "    <tr>\n",
       "      <th>960</th>\n",
       "      <td>ff4a02fe-439bd40b-274ee650-dbf9892b-9598b507</td>\n",
       "      <td>[atelectatic, osteo tibia]</td>\n",
       "      <td>0</td>\n",
       "      <td>0</td>\n",
       "      <td>0</td>\n",
       "      <td>0</td>\n",
       "      <td>0</td>\n",
       "      <td>0</td>\n",
       "      <td>0</td>\n",
       "      <td>0</td>\n",
       "      <td>...</td>\n",
       "      <td>0</td>\n",
       "      <td>0</td>\n",
       "      <td>0</td>\n",
       "      <td>0</td>\n",
       "      <td>0</td>\n",
       "      <td>0</td>\n",
       "      <td>0</td>\n",
       "      <td>0</td>\n",
       "      <td>0</td>\n",
       "      <td>0</td>\n",
       "    </tr>\n",
       "    <tr>\n",
       "      <th>409</th>\n",
       "      <td>ff792864-644001c7-35136c84-b135bccf-d86713b5</td>\n",
       "      <td>[pulmonary abnormality, hilar silhouettes, car...</td>\n",
       "      <td>0</td>\n",
       "      <td>0</td>\n",
       "      <td>0</td>\n",
       "      <td>0</td>\n",
       "      <td>0</td>\n",
       "      <td>0</td>\n",
       "      <td>0</td>\n",
       "      <td>0</td>\n",
       "      <td>...</td>\n",
       "      <td>0</td>\n",
       "      <td>0</td>\n",
       "      <td>0</td>\n",
       "      <td>0</td>\n",
       "      <td>0</td>\n",
       "      <td>0</td>\n",
       "      <td>0</td>\n",
       "      <td>0</td>\n",
       "      <td>0</td>\n",
       "      <td>0</td>\n",
       "    </tr>\n",
       "    <tr>\n",
       "      <th>432</th>\n",
       "      <td>ffe7b25d-26312cd5-0784767a-bc569418-2c6892d4</td>\n",
       "      <td>[bibasilar atelectasis, effusions bibasilar, p...</td>\n",
       "      <td>0</td>\n",
       "      <td>0</td>\n",
       "      <td>0</td>\n",
       "      <td>0</td>\n",
       "      <td>0</td>\n",
       "      <td>0</td>\n",
       "      <td>0</td>\n",
       "      <td>0</td>\n",
       "      <td>...</td>\n",
       "      <td>0</td>\n",
       "      <td>0</td>\n",
       "      <td>0</td>\n",
       "      <td>0</td>\n",
       "      <td>0</td>\n",
       "      <td>0</td>\n",
       "      <td>0</td>\n",
       "      <td>0</td>\n",
       "      <td>0</td>\n",
       "      <td>0</td>\n",
       "    </tr>\n",
       "  </tbody>\n",
       "</table>\n",
       "<p>1722 rows × 1993 columns</p>\n",
       "</div>"
      ],
      "text/plain": [
       "                                                Id  \\\n",
       "618   001fac99-3694d0bf-97264e61-ad66aacc-e369f694   \n",
       "1096  0081e530-6eda3d1b-7bc3edec-353d9de5-125a8845   \n",
       "1190  0097ea99-f0ab02d7-87a960e8-53063e3b-d33b6de2   \n",
       "1510  00f0fe92-5e4d958c-4383973b-5799ed47-b882b7b3   \n",
       "232   0111d952-0df9e69b-c81b0fab-ba72f157-b5ace4b8   \n",
       "...                                            ...   \n",
       "1447  ff1610a7-2efc14c3-9195187d-ccfaa8d7-02501e6d   \n",
       "1445  ff3686a3-b155f79c-ea3d4e94-46740aa8-a5528c95   \n",
       "960   ff4a02fe-439bd40b-274ee650-dbf9892b-9598b507   \n",
       "409   ff792864-644001c7-35136c84-b135bccf-d86713b5   \n",
       "432   ffe7b25d-26312cd5-0784767a-bc569418-2c6892d4   \n",
       "\n",
       "                                                  Genre  aaaalat  abd  \\\n",
       "618                                  [pleural effusion]        0    0   \n",
       "1096  [apical pneumothorax, cardiomediastinal, pleur...        0    0   \n",
       "1190  [cardiopulmonary abnormality, cardiomediastina...        0    0   \n",
       "1510  [pulmonary vasculature, pneumothorax gaseous, ...        0    0   \n",
       "232   [pneumothorax cardiomediastinal, pleural effus...        0    0   \n",
       "...                                                 ...      ...  ...   \n",
       "1447             [pleural effusion, atelectasis, edema]        0    0   \n",
       "1445  [pleural effusions, retrocardiac, endotracheal...        0    0   \n",
       "960                          [atelectatic, osteo tibia]        0    0   \n",
       "409   [pulmonary abnormality, hilar silhouettes, car...        0    0   \n",
       "432   [bibasilar atelectasis, effusions bibasilar, p...        0    0   \n",
       "\n",
       "      ablation  abnormalites  abnormality  abnormality bronchovascular  \\\n",
       "618          0             0            0                            0   \n",
       "1096         0             0            0                            0   \n",
       "1190         0             0            0                            0   \n",
       "1510         0             0            0                            0   \n",
       "232          0             0            0                            0   \n",
       "...        ...           ...          ...                          ...   \n",
       "1447         0             0            0                            0   \n",
       "1445         0             0            0                            0   \n",
       "960          0             0            0                            0   \n",
       "409          0             0            0                            0   \n",
       "432          0             0            0                            0   \n",
       "\n",
       "      abnormality coned  abnormality degenerative  ...  worsening opacities  \\\n",
       "618                   0                         0  ...                    0   \n",
       "1096                  0                         0  ...                    0   \n",
       "1190                  0                         0  ...                    0   \n",
       "1510                  0                         0  ...                    0   \n",
       "232                   0                         0  ...                    0   \n",
       "...                 ...                       ...  ...                  ...   \n",
       "1447                  0                         0  ...                    0   \n",
       "1445                  0                         0  ...                    0   \n",
       "960                   0                         0  ...                    0   \n",
       "409                   0                         0  ...                    0   \n",
       "432                   0                         0  ...                    0   \n",
       "\n",
       "      worsening pleural  worsening pna  worsening pneumothorax  \\\n",
       "618                   0              0                       0   \n",
       "1096                  0              0                       0   \n",
       "1190                  0              0                       0   \n",
       "1510                  0              0                       0   \n",
       "232                   0              0                       0   \n",
       "...                 ...            ...                     ...   \n",
       "1447                  0              0                       0   \n",
       "1445                  0              0                       0   \n",
       "960                   0              0                       0   \n",
       "409                   0              0                       0   \n",
       "432                   0              0                       0   \n",
       "\n",
       "      worsening pulm  worsening pulmonary  worsening shortness  worsening sob  \\\n",
       "618                0                    0                    0              0   \n",
       "1096               0                    0                    0              0   \n",
       "1190               0                    0                    0              0   \n",
       "1510               0                    0                    0              0   \n",
       "232                0                    0                    0              0   \n",
       "...              ...                  ...                  ...            ...   \n",
       "1447               0                    0                    0              0   \n",
       "1445               0                    0                    0              0   \n",
       "960                0                    0                    0              0   \n",
       "409                0                    0                    0              0   \n",
       "432                0                    0                    0              0   \n",
       "\n",
       "      xarelto  xray  \n",
       "618         0     0  \n",
       "1096        0     0  \n",
       "1190        0     0  \n",
       "1510        0     0  \n",
       "232         0     0  \n",
       "...       ...   ...  \n",
       "1447        0     0  \n",
       "1445        0     0  \n",
       "960         0     0  \n",
       "409         0     0  \n",
       "432         0     0  \n",
       "\n",
       "[1722 rows x 1993 columns]"
      ]
     },
     "execution_count": 109,
     "metadata": {},
     "output_type": "execute_result"
    }
   ],
   "source": [
    "data = data.sort_values('Id')\n",
    "data"
   ]
  },
  {
   "cell_type": "markdown",
   "metadata": {},
   "source": [
    "## Importing Chest X-ray images and running image processing algorithms"
   ]
  },
  {
   "cell_type": "code",
   "execution_count": 110,
   "metadata": {
    "scrolled": true
   },
   "outputs": [
    {
     "name": "stderr",
     "output_type": "stream",
     "text": [
      "100%|██████████| 1722/1722 [00:05<00:00, 320.98it/s]"
     ]
    },
    {
     "name": "stdout",
     "output_type": "stream",
     "text": [
      "[['e16385ed-52233231-25490ffa-d1dce483-552f75a5', array([[[1.00000004, 1.00000004, 1.00000004],\n",
      "        [1.00000003, 1.00000003, 1.00000003],\n",
      "        [1.00000003, 1.00000003, 1.00000003],\n",
      "        ...,\n",
      "        [1.00000003, 1.00000003, 1.00000003],\n",
      "        [1.00000003, 1.00000003, 1.00000003],\n",
      "        [1.00000003, 1.00000003, 1.00000003]],\n",
      "\n",
      "       [[1.00000001, 1.00000001, 1.00000001],\n",
      "        [1.        , 1.        , 1.        ],\n",
      "        [1.        , 1.        , 1.        ],\n",
      "        ...,\n",
      "        [1.        , 1.        , 1.        ],\n",
      "        [1.        , 1.        , 1.        ],\n",
      "        [1.        , 1.        , 1.        ]],\n",
      "\n",
      "       [[1.00000001, 1.00000001, 1.00000001],\n",
      "        [1.        , 1.        , 1.        ],\n",
      "        [1.        , 1.        , 1.        ],\n",
      "        ...,\n",
      "        [1.        , 1.        , 1.        ],\n",
      "        [1.        , 1.        , 1.        ],\n",
      "        [1.        , 1.        , 1.        ]],\n",
      "\n",
      "       ...,\n",
      "\n",
      "       [[1.00000001, 1.00000001, 1.00000001],\n",
      "        [1.        , 1.        , 1.        ],\n",
      "        [1.        , 1.        , 1.        ],\n",
      "        ...,\n",
      "        [1.        , 1.        , 1.        ],\n",
      "        [1.        , 1.        , 1.        ],\n",
      "        [1.        , 1.        , 1.        ]],\n",
      "\n",
      "       [[1.00000001, 1.00000001, 1.00000001],\n",
      "        [1.        , 1.        , 1.        ],\n",
      "        [1.        , 1.        , 1.        ],\n",
      "        ...,\n",
      "        [1.        , 1.        , 1.        ],\n",
      "        [1.        , 1.        , 1.        ],\n",
      "        [1.        , 1.        , 1.        ]],\n",
      "\n",
      "       [[1.00000001, 1.00000001, 1.00000001],\n",
      "        [1.        , 1.        , 1.        ],\n",
      "        [1.        , 1.        , 1.        ],\n",
      "        ...,\n",
      "        [1.        , 1.        , 1.        ],\n",
      "        [1.        , 1.        , 1.        ],\n",
      "        [1.        , 1.        , 1.        ]]])], ['203b6d0d-2190430c-dd830dfd-4cdb237f-19b318bc', array([[[1.00000003, 1.00000003, 1.00000003],\n",
      "        [1.00000003, 1.00000003, 1.00000003],\n",
      "        [1.00000003, 1.00000003, 1.00000003],\n",
      "        ...,\n",
      "        [1.00000003, 1.00000003, 1.00000003],\n",
      "        [1.00000003, 1.00000003, 1.00000003],\n",
      "        [1.00000003, 1.00000003, 1.00000003]],\n",
      "\n",
      "       [[1.        , 1.        , 1.        ],\n",
      "        [1.        , 1.        , 1.        ],\n",
      "        [1.        , 1.        , 1.        ],\n",
      "        ...,\n",
      "        [1.        , 1.        , 1.        ],\n",
      "        [1.        , 1.        , 1.        ],\n",
      "        [1.        , 1.        , 1.        ]],\n",
      "\n",
      "       [[1.        , 1.        , 1.        ],\n",
      "        [1.        , 1.        , 1.        ],\n",
      "        [1.        , 1.        , 1.        ],\n",
      "        ...,\n",
      "        [1.        , 1.        , 1.        ],\n",
      "        [1.        , 1.        , 1.        ],\n",
      "        [1.        , 1.        , 1.        ]],\n",
      "\n",
      "       ...,\n",
      "\n",
      "       [[1.        , 1.        , 1.        ],\n",
      "        [1.        , 1.        , 1.        ],\n",
      "        [1.        , 1.        , 1.        ],\n",
      "        ...,\n",
      "        [1.        , 1.        , 1.        ],\n",
      "        [1.        , 1.        , 1.        ],\n",
      "        [1.        , 1.        , 1.        ]],\n",
      "\n",
      "       [[1.        , 1.        , 1.        ],\n",
      "        [1.        , 1.        , 1.        ],\n",
      "        [1.        , 1.        , 1.        ],\n",
      "        ...,\n",
      "        [1.        , 1.        , 1.        ],\n",
      "        [1.        , 1.        , 1.        ],\n",
      "        [1.        , 1.        , 1.        ]],\n",
      "\n",
      "       [[1.        , 1.        , 1.        ],\n",
      "        [1.        , 1.        , 1.        ],\n",
      "        [1.        , 1.        , 1.        ],\n",
      "        ...,\n",
      "        [1.        , 1.        , 1.        ],\n",
      "        [1.        , 1.        , 1.        ],\n",
      "        [1.        , 1.        , 1.        ]]])]]\n"
     ]
    },
    {
     "name": "stderr",
     "output_type": "stream",
     "text": [
      "\n"
     ]
    }
   ],
   "source": [
    "# Importing Chest X-ray images\n",
    "import glob\n",
    "import cv2\n",
    "from tqdm import tqdm\n",
    "path = '/home/gautam-admin/Desktop/anand nlp/project xray/Project/png_files_sample/img'\n",
    "\n",
    "files = []\n",
    "for f in tqdm([f for f in glob.glob(path + \"**/*.png\", recursive=True)]):\n",
    "    name = (f.split('/')[-1].split('.')[0])\n",
    "    img = cv2.imread(f)\n",
    "    # resizing images to smaller dimensions for easier model training\n",
    "    img = cv2.resize(img/255, (224, 224))\n",
    "    files.append([name, img])\n",
    "print(files[:2])"
   ]
  },
  {
   "cell_type": "code",
   "execution_count": 111,
   "metadata": {
    "scrolled": true
   },
   "outputs": [
    {
     "data": {
      "text/html": [
       "<div>\n",
       "<style scoped>\n",
       "    .dataframe tbody tr th:only-of-type {\n",
       "        vertical-align: middle;\n",
       "    }\n",
       "\n",
       "    .dataframe tbody tr th {\n",
       "        vertical-align: top;\n",
       "    }\n",
       "\n",
       "    .dataframe thead th {\n",
       "        text-align: right;\n",
       "    }\n",
       "</style>\n",
       "<table border=\"1\" class=\"dataframe\">\n",
       "  <thead>\n",
       "    <tr style=\"text-align: right;\">\n",
       "      <th></th>\n",
       "      <th>Id</th>\n",
       "      <th>image</th>\n",
       "    </tr>\n",
       "  </thead>\n",
       "  <tbody>\n",
       "    <tr>\n",
       "      <th>661</th>\n",
       "      <td>001fac99-3694d0bf-97264e61-ad66aacc-e369f694</td>\n",
       "      <td>[[[1.0000000298023224, 1.0000000298023224, 1.0...</td>\n",
       "    </tr>\n",
       "    <tr>\n",
       "      <th>1648</th>\n",
       "      <td>0081e530-6eda3d1b-7bc3edec-353d9de5-125a8845</td>\n",
       "      <td>[[[1.0000000298023224, 1.0000000298023224, 1.0...</td>\n",
       "    </tr>\n",
       "    <tr>\n",
       "      <th>320</th>\n",
       "      <td>0097ea99-f0ab02d7-87a960e8-53063e3b-d33b6de2</td>\n",
       "      <td>[[[0.9999999999999991, 0.9999999999999991, 0.9...</td>\n",
       "    </tr>\n",
       "    <tr>\n",
       "      <th>1442</th>\n",
       "      <td>00f0fe92-5e4d958c-4383973b-5799ed47-b882b7b3</td>\n",
       "      <td>[[[1.0000000298023224, 1.0000000298023224, 1.0...</td>\n",
       "    </tr>\n",
       "    <tr>\n",
       "      <th>1690</th>\n",
       "      <td>0111d952-0df9e69b-c81b0fab-ba72f157-b5ace4b8</td>\n",
       "      <td>[[[0.9999999999999991, 0.9999999999999991, 0.9...</td>\n",
       "    </tr>\n",
       "  </tbody>\n",
       "</table>\n",
       "</div>"
      ],
      "text/plain": [
       "                                                Id  \\\n",
       "661   001fac99-3694d0bf-97264e61-ad66aacc-e369f694   \n",
       "1648  0081e530-6eda3d1b-7bc3edec-353d9de5-125a8845   \n",
       "320   0097ea99-f0ab02d7-87a960e8-53063e3b-d33b6de2   \n",
       "1442  00f0fe92-5e4d958c-4383973b-5799ed47-b882b7b3   \n",
       "1690  0111d952-0df9e69b-c81b0fab-ba72f157-b5ace4b8   \n",
       "\n",
       "                                                  image  \n",
       "661   [[[1.0000000298023224, 1.0000000298023224, 1.0...  \n",
       "1648  [[[1.0000000298023224, 1.0000000298023224, 1.0...  \n",
       "320   [[[0.9999999999999991, 0.9999999999999991, 0.9...  \n",
       "1442  [[[1.0000000298023224, 1.0000000298023224, 1.0...  \n",
       "1690  [[[0.9999999999999991, 0.9999999999999991, 0.9...  "
      ]
     },
     "execution_count": 111,
     "metadata": {},
     "output_type": "execute_result"
    }
   ],
   "source": [
    "# Creating a dataframe and storing the images\n",
    "# Making sure both dataframes are sorted with ID so all rows of each dataframe correspond to each other\n",
    "img_columns_names = ['Id'] + ['image'] #tokens = new_finawords\n",
    "images = pd.DataFrame(files, columns = img_columns_names)\n",
    "images = images.sort_values('Id')\n",
    "images[:5]"
   ]
  },
  {
   "cell_type": "code",
   "execution_count": 112,
   "metadata": {},
   "outputs": [
    {
     "name": "stdout",
     "output_type": "stream",
     "text": [
      "(1722, 224, 224, 3)\n"
     ]
    }
   ],
   "source": [
    "# Converting all the images into numpy arrays\n",
    "import numpy as np\n",
    "\n",
    "X = list(images.image)\n",
    "X = np.array(X)\n",
    "print(X.shape)"
   ]
  },
  {
   "cell_type": "code",
   "execution_count": 113,
   "metadata": {
    "scrolled": true
   },
   "outputs": [
    {
     "name": "stderr",
     "output_type": "stream",
     "text": [
      "W0508 08:12:03.647363 139709222242112 image.py:709] Clipping input data to the valid range for imshow with RGB data ([0..1] for floats or [0..255] for integers).\n"
     ]
    },
    {
     "data": {
      "text/plain": [
       "<matplotlib.image.AxesImage at 0x7f0fa42b30f0>"
      ]
     },
     "execution_count": 113,
     "metadata": {},
     "output_type": "execute_result"
    },
    {
     "data": {
      "image/png": "[encoded data removed]",
      "text/plain": [
       "<Figure size 432x288 with 1 Axes>"
      ]
     },
     "metadata": {
      "needs_background": "light"
     },
     "output_type": "display_data"
    }
   ],
   "source": [
    "import matplotlib.pyplot as plt\n",
    "\n",
    "plt.imshow(X[0])"
   ]
  },
  {
   "cell_type": "code",
   "execution_count": 114,
   "metadata": {},
   "outputs": [],
   "source": [
    "# Storing the dataframes into CSV files for future access\n",
    "images.to_csv('/home/gautam-admin/Desktop/anand nlp/project xray/Project/png_files_sample/images.csv', index=False)\n",
    "data.to_csv('/home/gautam-admin/Desktop/anand nlp/project xray/Project/png_files_sample/train.csv', index=False)"
   ]
  },
  {
   "cell_type": "code",
   "execution_count": null,
   "metadata": {},
   "outputs": [],
   "source": []
  },
  {
   "cell_type": "markdown",
   "metadata": {},
   "source": [
    "# Importing train and image data"
   ]
  },
  {
   "cell_type": "code",
   "execution_count": 115,
   "metadata": {},
   "outputs": [
    {
     "data": {
      "text/html": [
       "<div>\n",
       "<style scoped>\n",
       "    .dataframe tbody tr th:only-of-type {\n",
       "        vertical-align: middle;\n",
       "    }\n",
       "\n",
       "    .dataframe tbody tr th {\n",
       "        vertical-align: top;\n",
       "    }\n",
       "\n",
       "    .dataframe thead th {\n",
       "        text-align: right;\n",
       "    }\n",
       "</style>\n",
       "<table border=\"1\" class=\"dataframe\">\n",
       "  <thead>\n",
       "    <tr style=\"text-align: right;\">\n",
       "      <th></th>\n",
       "      <th>Id</th>\n",
       "      <th>Genre</th>\n",
       "      <th>aaaalat</th>\n",
       "      <th>abd</th>\n",
       "      <th>ablation</th>\n",
       "      <th>abnormalites</th>\n",
       "      <th>abnormality</th>\n",
       "      <th>abnormality bronchovascular</th>\n",
       "      <th>abnormality coned</th>\n",
       "      <th>abnormality degenerative</th>\n",
       "      <th>...</th>\n",
       "      <th>worsening opacities</th>\n",
       "      <th>worsening pleural</th>\n",
       "      <th>worsening pna</th>\n",
       "      <th>worsening pneumothorax</th>\n",
       "      <th>worsening pulm</th>\n",
       "      <th>worsening pulmonary</th>\n",
       "      <th>worsening shortness</th>\n",
       "      <th>worsening sob</th>\n",
       "      <th>xarelto</th>\n",
       "      <th>xray</th>\n",
       "    </tr>\n",
       "  </thead>\n",
       "  <tbody>\n",
       "    <tr>\n",
       "      <th>0</th>\n",
       "      <td>001fac99-3694d0bf-97264e61-ad66aacc-e369f694</td>\n",
       "      <td>['pleural effusion']</td>\n",
       "      <td>0</td>\n",
       "      <td>0</td>\n",
       "      <td>0</td>\n",
       "      <td>0</td>\n",
       "      <td>0</td>\n",
       "      <td>0</td>\n",
       "      <td>0</td>\n",
       "      <td>0</td>\n",
       "      <td>...</td>\n",
       "      <td>0</td>\n",
       "      <td>0</td>\n",
       "      <td>0</td>\n",
       "      <td>0</td>\n",
       "      <td>0</td>\n",
       "      <td>0</td>\n",
       "      <td>0</td>\n",
       "      <td>0</td>\n",
       "      <td>0</td>\n",
       "      <td>0</td>\n",
       "    </tr>\n",
       "    <tr>\n",
       "      <th>1</th>\n",
       "      <td>0081e530-6eda3d1b-7bc3edec-353d9de5-125a8845</td>\n",
       "      <td>['apical pneumothorax', 'cardiomediastinal', '...</td>\n",
       "      <td>0</td>\n",
       "      <td>0</td>\n",
       "      <td>0</td>\n",
       "      <td>0</td>\n",
       "      <td>0</td>\n",
       "      <td>0</td>\n",
       "      <td>0</td>\n",
       "      <td>0</td>\n",
       "      <td>...</td>\n",
       "      <td>0</td>\n",
       "      <td>0</td>\n",
       "      <td>0</td>\n",
       "      <td>0</td>\n",
       "      <td>0</td>\n",
       "      <td>0</td>\n",
       "      <td>0</td>\n",
       "      <td>0</td>\n",
       "      <td>0</td>\n",
       "      <td>0</td>\n",
       "    </tr>\n",
       "    <tr>\n",
       "      <th>2</th>\n",
       "      <td>0097ea99-f0ab02d7-87a960e8-53063e3b-d33b6de2</td>\n",
       "      <td>['cardiopulmonary abnormality', 'cardiomediast...</td>\n",
       "      <td>0</td>\n",
       "      <td>0</td>\n",
       "      <td>0</td>\n",
       "      <td>0</td>\n",
       "      <td>0</td>\n",
       "      <td>0</td>\n",
       "      <td>0</td>\n",
       "      <td>0</td>\n",
       "      <td>...</td>\n",
       "      <td>0</td>\n",
       "      <td>0</td>\n",
       "      <td>0</td>\n",
       "      <td>0</td>\n",
       "      <td>0</td>\n",
       "      <td>0</td>\n",
       "      <td>0</td>\n",
       "      <td>0</td>\n",
       "      <td>0</td>\n",
       "      <td>0</td>\n",
       "    </tr>\n",
       "    <tr>\n",
       "      <th>3</th>\n",
       "      <td>00f0fe92-5e4d958c-4383973b-5799ed47-b882b7b3</td>\n",
       "      <td>['pulmonary vasculature', 'pneumothorax gaseou...</td>\n",
       "      <td>0</td>\n",
       "      <td>0</td>\n",
       "      <td>0</td>\n",
       "      <td>0</td>\n",
       "      <td>0</td>\n",
       "      <td>0</td>\n",
       "      <td>0</td>\n",
       "      <td>0</td>\n",
       "      <td>...</td>\n",
       "      <td>0</td>\n",
       "      <td>0</td>\n",
       "      <td>0</td>\n",
       "      <td>0</td>\n",
       "      <td>0</td>\n",
       "      <td>0</td>\n",
       "      <td>0</td>\n",
       "      <td>0</td>\n",
       "      <td>0</td>\n",
       "      <td>0</td>\n",
       "    </tr>\n",
       "    <tr>\n",
       "      <th>4</th>\n",
       "      <td>0111d952-0df9e69b-c81b0fab-ba72f157-b5ace4b8</td>\n",
       "      <td>['pneumothorax cardiomediastinal', 'pleural ef...</td>\n",
       "      <td>0</td>\n",
       "      <td>0</td>\n",
       "      <td>0</td>\n",
       "      <td>0</td>\n",
       "      <td>0</td>\n",
       "      <td>0</td>\n",
       "      <td>0</td>\n",
       "      <td>0</td>\n",
       "      <td>...</td>\n",
       "      <td>0</td>\n",
       "      <td>0</td>\n",
       "      <td>0</td>\n",
       "      <td>0</td>\n",
       "      <td>0</td>\n",
       "      <td>0</td>\n",
       "      <td>0</td>\n",
       "      <td>0</td>\n",
       "      <td>0</td>\n",
       "      <td>0</td>\n",
       "    </tr>\n",
       "  </tbody>\n",
       "</table>\n",
       "<p>5 rows × 1993 columns</p>\n",
       "</div>"
      ],
      "text/plain": [
       "                                             Id  \\\n",
       "0  001fac99-3694d0bf-97264e61-ad66aacc-e369f694   \n",
       "1  0081e530-6eda3d1b-7bc3edec-353d9de5-125a8845   \n",
       "2  0097ea99-f0ab02d7-87a960e8-53063e3b-d33b6de2   \n",
       "3  00f0fe92-5e4d958c-4383973b-5799ed47-b882b7b3   \n",
       "4  0111d952-0df9e69b-c81b0fab-ba72f157-b5ace4b8   \n",
       "\n",
       "                                               Genre  aaaalat  abd  ablation  \\\n",
       "0                               ['pleural effusion']        0    0         0   \n",
       "1  ['apical pneumothorax', 'cardiomediastinal', '...        0    0         0   \n",
       "2  ['cardiopulmonary abnormality', 'cardiomediast...        0    0         0   \n",
       "3  ['pulmonary vasculature', 'pneumothorax gaseou...        0    0         0   \n",
       "4  ['pneumothorax cardiomediastinal', 'pleural ef...        0    0         0   \n",
       "\n",
       "   abnormalites  abnormality  abnormality bronchovascular  abnormality coned  \\\n",
       "0             0            0                            0                  0   \n",
       "1             0            0                            0                  0   \n",
       "2             0            0                            0                  0   \n",
       "3             0            0                            0                  0   \n",
       "4             0            0                            0                  0   \n",
       "\n",
       "   abnormality degenerative  ...  worsening opacities  worsening pleural  \\\n",
       "0                         0  ...                    0                  0   \n",
       "1                         0  ...                    0                  0   \n",
       "2                         0  ...                    0                  0   \n",
       "3                         0  ...                    0                  0   \n",
       "4                         0  ...                    0                  0   \n",
       "\n",
       "   worsening pna  worsening pneumothorax  worsening pulm  worsening pulmonary  \\\n",
       "0              0                       0               0                    0   \n",
       "1              0                       0               0                    0   \n",
       "2              0                       0               0                    0   \n",
       "3              0                       0               0                    0   \n",
       "4              0                       0               0                    0   \n",
       "\n",
       "   worsening shortness  worsening sob  xarelto  xray  \n",
       "0                    0              0        0     0  \n",
       "1                    0              0        0     0  \n",
       "2                    0              0        0     0  \n",
       "3                    0              0        0     0  \n",
       "4                    0              0        0     0  \n",
       "\n",
       "[5 rows x 1993 columns]"
      ]
     },
     "execution_count": 115,
     "metadata": {},
     "output_type": "execute_result"
    }
   ],
   "source": [
    "import pandas as pd\n",
    "train = pd.read_csv('/home/gautam-admin/Desktop/anand nlp/project xray/Project/png_files_sample/train.csv')\n",
    "train.head()"
   ]
  },
  {
   "cell_type": "code",
   "execution_count": 116,
   "metadata": {},
   "outputs": [
    {
     "data": {
      "text/html": [
       "<div>\n",
       "<style scoped>\n",
       "    .dataframe tbody tr th:only-of-type {\n",
       "        vertical-align: middle;\n",
       "    }\n",
       "\n",
       "    .dataframe tbody tr th {\n",
       "        vertical-align: top;\n",
       "    }\n",
       "\n",
       "    .dataframe thead th {\n",
       "        text-align: right;\n",
       "    }\n",
       "</style>\n",
       "<table border=\"1\" class=\"dataframe\">\n",
       "  <thead>\n",
       "    <tr style=\"text-align: right;\">\n",
       "      <th></th>\n",
       "      <th>Id</th>\n",
       "      <th>image</th>\n",
       "    </tr>\n",
       "  </thead>\n",
       "  <tbody>\n",
       "    <tr>\n",
       "      <th>661</th>\n",
       "      <td>001fac99-3694d0bf-97264e61-ad66aacc-e369f694</td>\n",
       "      <td>[[[1.0000000298023224, 1.0000000298023224, 1.0...</td>\n",
       "    </tr>\n",
       "    <tr>\n",
       "      <th>1648</th>\n",
       "      <td>0081e530-6eda3d1b-7bc3edec-353d9de5-125a8845</td>\n",
       "      <td>[[[1.0000000298023224, 1.0000000298023224, 1.0...</td>\n",
       "    </tr>\n",
       "    <tr>\n",
       "      <th>320</th>\n",
       "      <td>0097ea99-f0ab02d7-87a960e8-53063e3b-d33b6de2</td>\n",
       "      <td>[[[0.9999999999999991, 0.9999999999999991, 0.9...</td>\n",
       "    </tr>\n",
       "    <tr>\n",
       "      <th>1442</th>\n",
       "      <td>00f0fe92-5e4d958c-4383973b-5799ed47-b882b7b3</td>\n",
       "      <td>[[[1.0000000298023224, 1.0000000298023224, 1.0...</td>\n",
       "    </tr>\n",
       "    <tr>\n",
       "      <th>1690</th>\n",
       "      <td>0111d952-0df9e69b-c81b0fab-ba72f157-b5ace4b8</td>\n",
       "      <td>[[[0.9999999999999991, 0.9999999999999991, 0.9...</td>\n",
       "    </tr>\n",
       "  </tbody>\n",
       "</table>\n",
       "</div>"
      ],
      "text/plain": [
       "                                                Id  \\\n",
       "661   001fac99-3694d0bf-97264e61-ad66aacc-e369f694   \n",
       "1648  0081e530-6eda3d1b-7bc3edec-353d9de5-125a8845   \n",
       "320   0097ea99-f0ab02d7-87a960e8-53063e3b-d33b6de2   \n",
       "1442  00f0fe92-5e4d958c-4383973b-5799ed47-b882b7b3   \n",
       "1690  0111d952-0df9e69b-c81b0fab-ba72f157-b5ace4b8   \n",
       "\n",
       "                                                  image  \n",
       "661   [[[1.0000000298023224, 1.0000000298023224, 1.0...  \n",
       "1648  [[[1.0000000298023224, 1.0000000298023224, 1.0...  \n",
       "320   [[[0.9999999999999991, 0.9999999999999991, 0.9...  \n",
       "1442  [[[1.0000000298023224, 1.0000000298023224, 1.0...  \n",
       "1690  [[[0.9999999999999991, 0.9999999999999991, 0.9...  "
      ]
     },
     "execution_count": 116,
     "metadata": {},
     "output_type": "execute_result"
    }
   ],
   "source": [
    "images.head()"
   ]
  },
  {
   "cell_type": "code",
   "execution_count": 117,
   "metadata": {},
   "outputs": [
    {
     "name": "stdout",
     "output_type": "stream",
     "text": [
      "(1722, 224, 224, 3)\n"
     ]
    }
   ],
   "source": [
    "print(X.shape)"
   ]
  },
  {
   "cell_type": "code",
   "execution_count": 118,
   "metadata": {},
   "outputs": [],
   "source": [
    "import keras\n",
    "from keras.models import Sequential\n",
    "from keras.layers import Dense, Dropout, Flatten\n",
    "from keras.layers import Conv2D, MaxPooling2D\n",
    "from keras.utils import to_categorical\n",
    "from keras.preprocessing import image\n",
    "import numpy as np\n",
    "import pandas as pd\n",
    "import matplotlib.pyplot as plt\n",
    "from sklearn.model_selection import train_test_split\n",
    "from tqdm import tqdm\n",
    "%matplotlib inline"
   ]
  },
  {
   "cell_type": "code",
   "execution_count": 119,
   "metadata": {},
   "outputs": [
    {
     "data": {
      "text/plain": [
       "(1722, 1991)"
      ]
     },
     "execution_count": 119,
     "metadata": {},
     "output_type": "execute_result"
    }
   ],
   "source": [
    "y = np.array(train.drop(['Id', 'Genre'],axis=1))\n",
    "y.shape"
   ]
  },
  {
   "cell_type": "code",
   "execution_count": 120,
   "metadata": {},
   "outputs": [
    {
     "data": {
      "text/plain": [
       "Index(['Id', 'Genre', 'aaaalat', 'abd', 'ablation', 'abnormalites',\n",
       "       'abnormality', 'abnormality bronchovascular', 'abnormality coned',\n",
       "       'abnormality degenerative',\n",
       "       ...\n",
       "       'worsening opacities', 'worsening pleural', 'worsening pna',\n",
       "       'worsening pneumothorax', 'worsening pulm', 'worsening pulmonary',\n",
       "       'worsening shortness', 'worsening sob', 'xarelto', 'xray'],\n",
       "      dtype='object', length=1993)"
      ]
     },
     "execution_count": 120,
     "metadata": {},
     "output_type": "execute_result"
    }
   ],
   "source": [
    "train.columns"
   ]
  },
  {
   "cell_type": "code",
   "execution_count": 121,
   "metadata": {},
   "outputs": [],
   "source": [
    "X_train, X_test, y_train, y_test = train_test_split(X, y, random_state=42, test_size=0.1)"
   ]
  },
  {
   "cell_type": "code",
   "execution_count": 122,
   "metadata": {},
   "outputs": [],
   "source": [
    "model = Sequential()\n",
    "model.add(Conv2D(filters=20, kernel_size=(5, 5), activation=\"relu\", input_shape=(224,224,3)))\n",
    "model.add(MaxPooling2D(pool_size=(2, 2)))\n",
    "model.add(Dropout(0.25))\n",
    "model.add(Conv2D(filters=100, kernel_size=(5, 5), activation='relu'))\n",
    "model.add(MaxPooling2D(pool_size=(2, 2)))\n",
    "model.add(Dropout(0.25))\n",
    "model.add(Conv2D(filters=500, kernel_size=(5, 5), activation=\"relu\"))\n",
    "model.add(MaxPooling2D(pool_size=(2, 2)))\n",
    "model.add(Dropout(0.25))\n",
    "model.add(Conv2D(filters=1000, kernel_size=(5, 5), activation='relu'))\n",
    "model.add(MaxPooling2D(pool_size=(2, 2)))\n",
    "model.add(Dropout(0.25))\n",
    "model.add(Flatten())\n",
    "model.add(Dense(4000, activation='relu'))\n",
    "model.add(Dropout(0.5))\n",
    "model.add(Dense(3000, activation='relu'))\n",
    "model.add(Dropout(0.5))\n",
    "model.add(Dense(1992, activation='sigmoid'))"
   ]
  },
  {
   "cell_type": "code",
   "execution_count": 123,
   "metadata": {},
   "outputs": [
    {
     "name": "stdout",
     "output_type": "stream",
     "text": [
      "Model: \"sequential_2\"\n",
      "_________________________________________________________________\n",
      "Layer (type)                 Output Shape              Param #   \n",
      "=================================================================\n",
      "conv2d_5 (Conv2D)            (None, 220, 220, 20)      1520      \n",
      "_________________________________________________________________\n",
      "max_pooling2d_5 (MaxPooling2 (None, 110, 110, 20)      0         \n",
      "_________________________________________________________________\n",
      "dropout_7 (Dropout)          (None, 110, 110, 20)      0         \n",
      "_________________________________________________________________\n",
      "conv2d_6 (Conv2D)            (None, 106, 106, 100)     50100     \n",
      "_________________________________________________________________\n",
      "max_pooling2d_6 (MaxPooling2 (None, 53, 53, 100)       0         \n",
      "_________________________________________________________________\n",
      "dropout_8 (Dropout)          (None, 53, 53, 100)       0         \n",
      "_________________________________________________________________\n",
      "conv2d_7 (Conv2D)            (None, 49, 49, 500)       1250500   \n",
      "_________________________________________________________________\n",
      "max_pooling2d_7 (MaxPooling2 (None, 24, 24, 500)       0         \n",
      "_________________________________________________________________\n",
      "dropout_9 (Dropout)          (None, 24, 24, 500)       0         \n",
      "_________________________________________________________________\n",
      "conv2d_8 (Conv2D)            (None, 20, 20, 1000)      12501000  \n",
      "_________________________________________________________________\n",
      "max_pooling2d_8 (MaxPooling2 (None, 10, 10, 1000)      0         \n",
      "_________________________________________________________________\n",
      "dropout_10 (Dropout)         (None, 10, 10, 1000)      0         \n",
      "_________________________________________________________________\n",
      "flatten_2 (Flatten)          (None, 100000)            0         \n",
      "_________________________________________________________________\n",
      "dense_4 (Dense)              (None, 4000)              400004000 \n",
      "_________________________________________________________________\n",
      "dropout_11 (Dropout)         (None, 4000)              0         \n",
      "_________________________________________________________________\n",
      "dense_5 (Dense)              (None, 3000)              12003000  \n",
      "_________________________________________________________________\n",
      "dropout_12 (Dropout)         (None, 3000)              0         \n",
      "_________________________________________________________________\n",
      "dense_6 (Dense)              (None, 1992)              5977992   \n",
      "=================================================================\n",
      "Total params: 431,788,112\n",
      "Trainable params: 431,788,112\n",
      "Non-trainable params: 0\n",
      "_________________________________________________________________\n"
     ]
    }
   ],
   "source": [
    "model.summary()"
   ]
  },
  {
   "cell_type": "code",
   "execution_count": 124,
   "metadata": {},
   "outputs": [],
   "source": [
    "model.compile(optimizer='adam', loss='binary_crossentropy', metrics=['accuracy'])"
   ]
  },
  {
   "cell_type": "code",
   "execution_count": 24,
   "metadata": {},
   "outputs": [
    {
     "name": "stdout",
     "output_type": "stream",
     "text": [
      "Train on 1549 samples, validate on 173 samples\n",
      "Epoch 1/1\n",
      "1549/1549 [==============================] - 179s 116ms/step - loss: 0.0993 - accuracy: 0.9696 - val_loss: 0.0198 - val_accuracy: 0.9962\n"
     ]
    },
    {
     "data": {
      "text/plain": [
       "<keras.callbacks.callbacks.History at 0x7f0dc1c4ff98>"
      ]
     },
     "execution_count": 24,
     "metadata": {},
     "output_type": "execute_result"
    }
   ],
   "source": [
    "model.fit(X_train, y_train, epochs=1, validation_data=(X_test, y_test), batch_size=64)"
   ]
  },
  {
   "cell_type": "code",
   "execution_count": 33,
   "metadata": {},
   "outputs": [],
   "source": [
    "img = cv2.imread('/home/gautam-admin/Desktop/anand nlp/project xray/Project/png_files_sample/img/01e7cb2c-724a277f-c28ff848-25450474-62b930aa.png')\n",
    "img = cv2.resize(img, (224,224))\n",
    "img = img/255\n",
    "img = np.array(img)"
   ]
  },
  {
   "cell_type": "code",
   "execution_count": 34,
   "metadata": {},
   "outputs": [
    {
     "data": {
      "text/plain": [
       "<matplotlib.image.AxesImage at 0x7f0dc0c86978>"
      ]
     },
     "execution_count": 34,
     "metadata": {},
     "output_type": "execute_result"
    },
    {
     "data": {
      "image/png": "[encoded data removed]",
      "text/plain": [
       "<Figure size 432x288 with 1 Axes>"
      ]
     },
     "metadata": {
      "needs_background": "light"
     },
     "output_type": "display_data"
    }
   ],
   "source": [
    "plt.imshow(img)"
   ]
  },
  {
   "cell_type": "code",
   "execution_count": 35,
   "metadata": {},
   "outputs": [
    {
     "name": "stdout",
     "output_type": "stream",
     "text": [
      "pneumothorax (0.632)\n",
      "cardiopulmonary (0.348)\n",
      "cardiomediastinal (0.323)\n"
     ]
    },
    {
     "data": {
      "text/plain": [
       "<matplotlib.image.AxesImage at 0x7f0dc0e99cf8>"
      ]
     },
     "execution_count": 35,
     "metadata": {},
     "output_type": "execute_result"
    },
    {
     "data": {
      "image/png": "[encoded data removed]",
      "text/plain": [
       "<Figure size 432x288 with 1 Axes>"
      ]
     },
     "metadata": {
      "needs_background": "light"
     },
     "output_type": "display_data"
    }
   ],
   "source": [
    "classes = np.array(train.columns[2:])\n",
    "proba = model.predict(img.reshape(1,224,224,3))\n",
    "top_3 = np.argsort(proba[0])[:-4:-1]\n",
    "for i in range(3):\n",
    "    print(\"{}\".format(classes[top_3[i]])+\" ({:.3})\".format(proba[0][top_3[i]]))\n",
    "plt.imshow(img)"
   ]
  },
  {
   "cell_type": "code",
   "execution_count": null,
   "metadata": {},
   "outputs": [],
   "source": []
  }
 ],
 "metadata": {
  "kernelspec": {
   "display_name": "Python 3",
   "language": "python",
   "name": "python3"
  },
  "language_info": {
   "codemirror_mode": {
    "name": "ipython",
    "version": 3
   },
   "file_extension": ".py",
   "mimetype": "text/x-python",
   "name": "python",
   "nbconvert_exporter": "python",
   "pygments_lexer": "ipython3",
   "version": "3.6.9"
  }
 },
 "nbformat": 4,
 "nbformat_minor": 2
}
